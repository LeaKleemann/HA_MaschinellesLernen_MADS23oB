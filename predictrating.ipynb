{
 "cells": [
  {
   "cell_type": "code",
   "execution_count": 1,
   "metadata": {},
   "outputs": [],
   "source": [
    "import pandas as pd\n",
    "import pathlib2 as pathlib\n",
    "\n",
    "from gensim.utils import tokenize\n",
    "from sklearn.model_selection import train_test_split\n",
    "from sklearn.pipeline import Pipeline\n",
    "from sklearn.model_selection import cross_val_score, KFold\n",
    "from sklearn.model_selection import GridSearchCV\n",
    "\n",
    "import numpy as np\n",
    "import re\n",
    "\n",
    "import joblib\n",
    "randomstate=313"
   ]
  },
  {
   "cell_type": "code",
   "execution_count": 38,
   "metadata": {},
   "outputs": [],
   "source": [
    "cwd=pathlib.Path.cwd()\n",
    "datapath=cwd.joinpath('data')\n",
    "datawreviewsfile=datapath.joinpath('processed/innerJoinData.csv')\n",
    "# dataworeviewsfile=datapath.joinpath('raw/collaborative_book_metadata_with_genredummies.csv')\n",
    "models_path=cwd.joinpath('models')\n",
    "\n",
    "datadf=pd.read_csv(datawreviewsfile,sep=';')\n",
    "# fulldatadf=pd.read_csv(dataworeviewsfile,sep=';')\n",
    "datadf=datadf.drop(['biography', 'children', 'comics', 'crime', 'fantasy', 'fiction',\n",
    "       'graphic', 'historicalfiction', 'history', 'mystery', 'nonfiction',\n",
    "       'paranormal', 'poetry', 'romance', 'thriller', 'youngadult'],axis=1)\n",
    "\n",
    "def remove_punctuation(x):\n",
    "    cleanedtext=re.sub('[^A-Za-z0-9]+', ' ', x)\n",
    "    return cleanedtext\n",
    "datadf['description']=datadf.description.transform(remove_punctuation)\n",
    "datadf['genre']=datadf.genre.apply(lambda x: x.replace(\"'\",\"\")) # remove '\n",
    "datadf['genre']=datadf.genre.apply(lambda x: x.replace(\"-\",\"\")) # revome - \n",
    "datadf['genre']=datadf.genre.apply(lambda x: x.replace(\" \",\"\")) # remove spaces\n",
    "datadf['genre']=datadf.genre.apply(lambda x: x[1:-1].split(',')) # split into list\n",
    "\n",
    "mlbmodelpath=models_path.joinpath('mlb_model')\n",
    "mlbmodel=joblib.load(mlbmodelpath.joinpath('mlbmodel.pkl').as_posix())\n",
    "newcols=mlbmodel.classes_\n",
    "pred=mlbmodel.transform(datadf.genre)\n",
    "preddf=pd.DataFrame(pred,columns=newcols)\n",
    "datadf=datadf.join(preddf)\n",
    "\n",
    "descriptionmodelpath=models_path.joinpath('description_models')\n",
    "descmodel=joblib.load(descriptionmodelpath.joinpath('gridamodel.pkl').as_posix())\n",
    "newcols=descmodel.best_estimator_.named_steps['lda'].get_feature_names_out()\n",
    "pred=descmodel.best_estimator_.transform(datadf.description)\n",
    "preddf=pd.DataFrame(pred,columns=newcols)\n",
    "datadf=datadf.join(preddf)\n"
   ]
  },
  {
   "cell_type": "code",
   "execution_count": 13,
   "metadata": {},
   "outputs": [
    {
     "data": {
      "text/plain": [
       "Index(['title_x', 'book_id_x', 'user_id_mapping', 'book_id_mapping',\n",
       "       'Predicted Rating', 'Actual Rating', 'book_id_y', 'title_y',\n",
       "       'image_url', 'url', 'num_pages', 'ratings_count', 'description',\n",
       "       'genre', 'name', 'num_genres', 'biography', 'children', 'comics',\n",
       "       'crime', 'fantasy', 'fiction', 'graphic', 'historicalfiction',\n",
       "       'history', 'mystery', 'nonfiction', 'paranormal', 'poetry', 'romance',\n",
       "       'thriller', 'youngadult', 'latentdirichletallocation0',\n",
       "       'latentdirichletallocation1', 'latentdirichletallocation2'],\n",
       "      dtype='object')"
      ]
     },
     "execution_count": 13,
     "metadata": {},
     "output_type": "execute_result"
    }
   ],
   "source": [
    "# datadf.head()\n",
    "datadf.columns"
   ]
  },
  {
   "cell_type": "code",
   "execution_count": 39,
   "metadata": {},
   "outputs": [],
   "source": [
    "# drop columns not for prediction\n",
    "# copied list:\n",
    "# ['title_x','book_id_x','book_id_mapping','Predicted Rating','book_id_y', 'title_y', 'image_url', 'url','description', 'genre','num_genres']\n",
    "# keep:'user_id_mapping' for user identification --> would be replaced by cluster representation, concern: as a numerical value implies false relationship between values\n",
    "# target: 'Actual Rating'\n",
    "dropcols=['title_x','book_id_x','book_id_mapping','Predicted Rating','book_id_y', 'title_y', 'image_url', 'url','description', 'genre','num_genres','name'] #drop author name too, as binarization too big and few duplicates\n",
    "datadf=datadf.drop(dropcols,axis=1)"
   ]
  },
  {
   "cell_type": "code",
   "execution_count": 40,
   "metadata": {},
   "outputs": [
    {
     "data": {
      "text/plain": [
       "Index(['user_id_mapping', 'Actual Rating', 'num_pages', 'ratings_count',\n",
       "       'biography', 'children', 'comics', 'crime', 'fantasy', 'fiction',\n",
       "       'graphic', 'historicalfiction', 'history', 'mystery', 'nonfiction',\n",
       "       'paranormal', 'poetry', 'romance', 'thriller', 'youngadult',\n",
       "       'latentdirichletallocation0', 'latentdirichletallocation1',\n",
       "       'latentdirichletallocation2'],\n",
       "      dtype='object')"
      ]
     },
     "execution_count": 40,
     "metadata": {},
     "output_type": "execute_result"
    }
   ],
   "source": [
    "datadf.columns"
   ]
  },
  {
   "cell_type": "code",
   "execution_count": 41,
   "metadata": {},
   "outputs": [],
   "source": [
    "xtrain,xtest,ytrain,ytest=train_test_split(datadf.drop(['Actual Rating'],axis=1),datadf['Actual Rating'],test_size=0.1,random_state=randomstate,shuffle=True)"
   ]
  },
  {
   "cell_type": "code",
   "execution_count": 43,
   "metadata": {},
   "outputs": [
    {
     "name": "stdout",
     "output_type": "stream",
     "text": [
      "17841 17841\n",
      "1983 1983\n"
     ]
    }
   ],
   "source": [
    "print(len(xtrain), len(ytrain))\n",
    "print(len(xtest),len(ytest))"
   ]
  },
  {
   "cell_type": "code",
   "execution_count": 49,
   "metadata": {},
   "outputs": [
    {
     "data": {
      "text/plain": [
       "user_id_mapping                 int64\n",
       "num_pages                       int64\n",
       "ratings_count                   int64\n",
       "biography                       int32\n",
       "children                        int32\n",
       "comics                          int32\n",
       "crime                           int32\n",
       "fantasy                         int32\n",
       "fiction                         int32\n",
       "graphic                         int32\n",
       "historicalfiction               int32\n",
       "history                         int32\n",
       "mystery                         int32\n",
       "nonfiction                      int32\n",
       "paranormal                      int32\n",
       "poetry                          int32\n",
       "romance                         int32\n",
       "thriller                        int32\n",
       "youngadult                      int32\n",
       "latentdirichletallocation0    float64\n",
       "latentdirichletallocation1    float64\n",
       "latentdirichletallocation2    float64\n",
       "dtype: object"
      ]
     },
     "execution_count": 49,
     "metadata": {},
     "output_type": "execute_result"
    }
   ],
   "source": [
    "xtrain.dtypes"
   ]
  },
  {
   "cell_type": "markdown",
   "metadata": {},
   "source": [
    "## Regression"
   ]
  },
  {
   "cell_type": "code",
   "execution_count": 57,
   "metadata": {},
   "outputs": [],
   "source": [
    "from sklearn import svm\n",
    "from sklearn.tree import DecisionTreeRegressor\n",
    "predictionmodelpath=models_path.joinpath('prediction_models')\n"
   ]
  },
  {
   "cell_type": "code",
   "execution_count": 58,
   "metadata": {},
   "outputs": [],
   "source": [
    "modela=svm.SVR(max_iter=150)\n",
    "paramsa={'kernel':['linear','poly','rbf','sigmoid'],\n",
    "         'degree':[3,4],\n",
    "         'gamma':['auto','scale'],\n",
    "         'coef0':[0.0,0.5,1],\n",
    "         'tol':[0.001,0.003,0.01],\n",
    "         'C':[1.0,0.5,2.0],\n",
    "         'epsilon':[0.1,0.5],\n",
    "         'shrinking':[True,False]\n",
    "         }\n",
    "grida=GridSearchCV(modela,paramsa,n_jobs=-1,cv=5,return_train_score=True)\n",
    "\n",
    "modelb=DecisionTreeRegressor(random_state=randomstate)\n",
    "paramsb={'criterion':['squared_error','friedman_mse','absolute_error','poisson'],\n",
    "         'splitter':['best','random'],\n",
    "         'max_depth':[None,5,10],\n",
    "         'min_samples_split':[2,25,100],\n",
    "         'min_samples_leaf':[1,100,50],\n",
    "         'max_features':[None,'log2',5],\n",
    "         'max_leaf_nodes':[None,10,20],\n",
    "         'ccp_alpha':[0.0,0.2,0.5]\n",
    "         }\n",
    "gridb=GridSearchCV(modelb,paramsb,n_jobs=-1,cv=5,return_train_score=True)"
   ]
  },
  {
   "cell_type": "code",
   "execution_count": 59,
   "metadata": {},
   "outputs": [
    {
     "name": "stderr",
     "output_type": "stream",
     "text": [
      "c:\\Users\\lekle\\anaconda3\\Lib\\site-packages\\sklearn\\model_selection\\_validation.py:547: FitFailedWarning: \n",
      "540 fits failed out of a total of 8640.\n",
      "The score on these train-test partitions for these parameters will be set to nan.\n",
      "If these failures are not expected, you can try to debug them by setting error_score='raise'.\n",
      "\n",
      "Below are more details about the failures:\n",
      "--------------------------------------------------------------------------------\n",
      "540 fits failed with the following error:\n",
      "Traceback (most recent call last):\n",
      "  File \"c:\\Users\\lekle\\anaconda3\\Lib\\site-packages\\sklearn\\model_selection\\_validation.py\", line 895, in _fit_and_score\n",
      "    estimator.fit(X_train, y_train, **fit_params)\n",
      "  File \"c:\\Users\\lekle\\anaconda3\\Lib\\site-packages\\sklearn\\base.py\", line 1474, in wrapper\n",
      "    return fit_method(estimator, *args, **kwargs)\n",
      "           ^^^^^^^^^^^^^^^^^^^^^^^^^^^^^^^^^^^^^^\n",
      "  File \"c:\\Users\\lekle\\anaconda3\\Lib\\site-packages\\sklearn\\svm\\_base.py\", line 268, in fit\n",
      "    raise ValueError(\n",
      "ValueError: The dual coefficients or intercepts are not finite. The input data may contain large values and need to be preprocessed.\n",
      "\n",
      "  warnings.warn(some_fits_failed_message, FitFailedWarning)\n",
      "c:\\Users\\lekle\\anaconda3\\Lib\\site-packages\\sklearn\\model_selection\\_search.py:1051: UserWarning: One or more of the test scores are non-finite: [-2.22540178e+13 -2.22540178e+13 -2.22540178e+13 ... -1.99481701e+02\n",
      " -1.99481701e+02 -1.99481701e+02]\n",
      "  warnings.warn(\n",
      "c:\\Users\\lekle\\anaconda3\\Lib\\site-packages\\sklearn\\model_selection\\_search.py:1051: UserWarning: One or more of the train scores are non-finite: [-2.21276666e+13 -2.21276666e+13 -2.21276666e+13 ... -1.99388305e+02\n",
      " -1.99388305e+02 -1.99388305e+02]\n",
      "  warnings.warn(\n",
      "c:\\Users\\lekle\\anaconda3\\Lib\\site-packages\\sklearn\\svm\\_base.py:297: ConvergenceWarning: Solver terminated early (max_iter=150).  Consider pre-processing your data with StandardScaler or MinMaxScaler.\n",
      "  warnings.warn(\n"
     ]
    },
    {
     "data": {
      "text/plain": [
       "['c:/Users/lekle/Projects_Code/HA_MaschinellesLernen_MADS23oB/models/prediction_models/regdtmodel.pkl']"
      ]
     },
     "execution_count": 59,
     "metadata": {},
     "output_type": "execute_result"
    }
   ],
   "source": [
    "gridamodel=grida.fit(xtrain,ytrain)\n",
    "joblib.dump(gridamodel,predictionmodelpath.joinpath('regsvmmodel.pkl').as_posix())\n",
    "\n",
    "gridbmodel=gridb.fit(xtrain,ytrain)\n",
    "joblib.dump(gridbmodel,predictionmodelpath.joinpath('regdtmodel.pkl').as_posix())"
   ]
  },
  {
   "cell_type": "markdown",
   "metadata": {},
   "source": [
    "## Classification"
   ]
  },
  {
   "cell_type": "code",
   "execution_count": 60,
   "metadata": {},
   "outputs": [],
   "source": [
    "from sklearn.svm import SVC\n",
    "from sklearn.tree import DecisionTreeClassifier"
   ]
  },
  {
   "cell_type": "code",
   "execution_count": 61,
   "metadata": {},
   "outputs": [],
   "source": [
    "modelc=SVC(max_iter=150,random_state=randomstate)\n",
    "paramsc={\n",
    "    'C':[1.0,0.5,2.0],\n",
    "    'kernel':['linear','poly','rbf','sigmoid'],\n",
    "    'degree':[3,4],\n",
    "    'gamma':['auto','scale'],\n",
    "    'coef0':[0.0,0.5,1],\n",
    "    'tol':[0.001,0.003,0.01],\n",
    "    'shrinking':[True,False],\n",
    "    'decision_function_shape':['ovo','ovr']\n",
    "}\n",
    "gridc=GridSearchCV(modelc,paramsc,n_jobs=-1,cv=5,return_train_score=True)\n",
    "\n",
    "modeld=DecisionTreeClassifier(random_state=randomstate)\n",
    "paramsd={\n",
    "    'criterion':['gini','entropy','log_loss'],\n",
    "    'splitter':['best','random'],\n",
    "    'max_depth':[None,5,10],\n",
    "    'min_samples_split':[2,25,100],\n",
    "    'min_samples_leaf':[1,100,50],\n",
    "    'max_features':[None,'log2',5],\n",
    "    'max_leaf_nodes':[None,10,20],\n",
    "    'ccp_alpha':[0.0,0.2,0.5]    \n",
    "}\n",
    "gridd=GridSearchCV(modeld,paramsd,n_jobs=-1,cv=5,return_train_score=True)"
   ]
  },
  {
   "cell_type": "code",
   "execution_count": 62,
   "metadata": {},
   "outputs": [
    {
     "name": "stderr",
     "output_type": "stream",
     "text": [
      "c:\\Users\\lekle\\anaconda3\\Lib\\site-packages\\sklearn\\model_selection\\_validation.py:547: FitFailedWarning: \n",
      "540 fits failed out of a total of 8640.\n",
      "The score on these train-test partitions for these parameters will be set to nan.\n",
      "If these failures are not expected, you can try to debug them by setting error_score='raise'.\n",
      "\n",
      "Below are more details about the failures:\n",
      "--------------------------------------------------------------------------------\n",
      "540 fits failed with the following error:\n",
      "Traceback (most recent call last):\n",
      "  File \"c:\\Users\\lekle\\anaconda3\\Lib\\site-packages\\sklearn\\model_selection\\_validation.py\", line 895, in _fit_and_score\n",
      "    estimator.fit(X_train, y_train, **fit_params)\n",
      "  File \"c:\\Users\\lekle\\anaconda3\\Lib\\site-packages\\sklearn\\base.py\", line 1474, in wrapper\n",
      "    return fit_method(estimator, *args, **kwargs)\n",
      "           ^^^^^^^^^^^^^^^^^^^^^^^^^^^^^^^^^^^^^^\n",
      "  File \"c:\\Users\\lekle\\anaconda3\\Lib\\site-packages\\sklearn\\svm\\_base.py\", line 268, in fit\n",
      "    raise ValueError(\n",
      "ValueError: The dual coefficients or intercepts are not finite. The input data may contain large values and need to be preprocessed.\n",
      "\n",
      "  warnings.warn(some_fits_failed_message, FitFailedWarning)\n",
      "c:\\Users\\lekle\\anaconda3\\Lib\\site-packages\\sklearn\\model_selection\\_search.py:1051: UserWarning: One or more of the test scores are non-finite: [0.11978409 0.11978409 0.11978409 ... 0.10952326 0.10952326 0.10952326]\n",
      "  warnings.warn(\n",
      "c:\\Users\\lekle\\anaconda3\\Lib\\site-packages\\sklearn\\model_selection\\_search.py:1051: UserWarning: One or more of the train scores are non-finite: [0.12073219 0.12073219 0.12073219 ... 0.10984525 0.10984525 0.10984525]\n",
      "  warnings.warn(\n",
      "c:\\Users\\lekle\\anaconda3\\Lib\\site-packages\\sklearn\\svm\\_base.py:297: ConvergenceWarning: Solver terminated early (max_iter=150).  Consider pre-processing your data with StandardScaler or MinMaxScaler.\n",
      "  warnings.warn(\n"
     ]
    },
    {
     "data": {
      "text/plain": [
       "['c:/Users/lekle/Projects_Code/HA_MaschinellesLernen_MADS23oB/models/prediction_models/clasdtmodel.pkl']"
      ]
     },
     "execution_count": 62,
     "metadata": {},
     "output_type": "execute_result"
    }
   ],
   "source": [
    "gridcmodel=gridc.fit(xtrain,ytrain)\n",
    "joblib.dump(gridcmodel,predictionmodelpath.joinpath('classsvmmodel.pkl').as_posix())\n",
    "\n",
    "gridbdmodel=gridd.fit(xtrain,ytrain)\n",
    "joblib.dump(gridbmodel,predictionmodelpath.joinpath('clasdtmodel.pkl').as_posix())"
   ]
  }
 ],
 "metadata": {
  "kernelspec": {
   "display_name": "base",
   "language": "python",
   "name": "python3"
  },
  "language_info": {
   "codemirror_mode": {
    "name": "ipython",
    "version": 3
   },
   "file_extension": ".py",
   "mimetype": "text/x-python",
   "name": "python",
   "nbconvert_exporter": "python",
   "pygments_lexer": "ipython3",
   "version": "3.12.4"
  }
 },
 "nbformat": 4,
 "nbformat_minor": 2
}
