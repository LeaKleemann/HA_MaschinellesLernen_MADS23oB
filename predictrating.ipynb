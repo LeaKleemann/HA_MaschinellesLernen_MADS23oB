{
 "cells": [
  {
   "cell_type": "code",
   "execution_count": 1,
   "metadata": {},
   "outputs": [],
   "source": [
    "import pandas as pd\n",
    "import pathlib2 as pathlib\n",
    "\n",
    "from gensim.utils import tokenize\n",
    "from sklearn.model_selection import train_test_split\n",
    "from sklearn.pipeline import Pipeline\n",
    "from sklearn.model_selection import cross_val_score, KFold\n",
    "from sklearn.model_selection import GridSearchCV\n",
    "\n",
    "import numpy as np\n",
    "import re\n",
    "\n",
    "import joblib\n",
    "randomstate=313"
   ]
  },
  {
   "cell_type": "code",
   "execution_count": 7,
   "metadata": {},
   "outputs": [
    {
     "name": "stderr",
     "output_type": "stream",
     "text": [
      "c:\\Users\\lekle\\anaconda3\\envs\\tf-env\\lib\\site-packages\\sklearn\\base.py:347: InconsistentVersionWarning: Trying to unpickle estimator MultiLabelBinarizer from version 1.4.2 when using version 1.3.0. This might lead to breaking code or invalid results. Use at your own risk. For more info please refer to:\n",
      "https://scikit-learn.org/stable/model_persistence.html#security-maintainability-limitations\n",
      "  warnings.warn(\n",
      "c:\\Users\\lekle\\anaconda3\\envs\\tf-env\\lib\\site-packages\\sklearn\\base.py:347: InconsistentVersionWarning: Trying to unpickle estimator CountVectorizer from version 1.4.2 when using version 1.3.0. This might lead to breaking code or invalid results. Use at your own risk. For more info please refer to:\n",
      "https://scikit-learn.org/stable/model_persistence.html#security-maintainability-limitations\n",
      "  warnings.warn(\n",
      "c:\\Users\\lekle\\anaconda3\\envs\\tf-env\\lib\\site-packages\\sklearn\\base.py:347: InconsistentVersionWarning: Trying to unpickle estimator LatentDirichletAllocation from version 1.4.2 when using version 1.3.0. This might lead to breaking code or invalid results. Use at your own risk. For more info please refer to:\n",
      "https://scikit-learn.org/stable/model_persistence.html#security-maintainability-limitations\n",
      "  warnings.warn(\n",
      "c:\\Users\\lekle\\anaconda3\\envs\\tf-env\\lib\\site-packages\\sklearn\\base.py:347: InconsistentVersionWarning: Trying to unpickle estimator Pipeline from version 1.4.2 when using version 1.3.0. This might lead to breaking code or invalid results. Use at your own risk. For more info please refer to:\n",
      "https://scikit-learn.org/stable/model_persistence.html#security-maintainability-limitations\n",
      "  warnings.warn(\n",
      "c:\\Users\\lekle\\anaconda3\\envs\\tf-env\\lib\\site-packages\\sklearn\\base.py:347: InconsistentVersionWarning: Trying to unpickle estimator GridSearchCV from version 1.4.2 when using version 1.3.0. This might lead to breaking code or invalid results. Use at your own risk. For more info please refer to:\n",
      "https://scikit-learn.org/stable/model_persistence.html#security-maintainability-limitations\n",
      "  warnings.warn(\n"
     ]
    }
   ],
   "source": [
    "cwd=pathlib.Path.cwd()\n",
    "datapath=cwd.joinpath('data')\n",
    "datawreviewsfile=datapath.joinpath('processed/innerJoinData.csv')\n",
    "# dataworeviewsfile=datapath.joinpath('raw/collaborative_book_metadata_with_genredummies.csv')\n",
    "models_path=cwd.joinpath('models')\n",
    "\n",
    "datadf=pd.read_csv(datawreviewsfile,sep=';')\n",
    "# fulldatadf=pd.read_csv(dataworeviewsfile,sep=';')\n",
    "datadf=datadf.drop(['biography', 'children', 'comics', 'crime', 'fantasy', 'fiction',\n",
    "       'graphic', 'historicalfiction', 'history', 'mystery', 'nonfiction',\n",
    "       'paranormal', 'poetry', 'romance', 'thriller', 'youngadult'],axis=1)\n",
    "\n",
    "def remove_punctuation(x):\n",
    "    cleanedtext=re.sub('[^A-Za-z0-9]+', ' ', x)\n",
    "    return cleanedtext\n",
    "datadf['description']=datadf.description.transform(remove_punctuation)\n",
    "datadf['genre']=datadf.genre.apply(lambda x: x.replace(\"'\",\"\")) # remove '\n",
    "datadf['genre']=datadf.genre.apply(lambda x: x.replace(\"-\",\"\")) # revome - \n",
    "datadf['genre']=datadf.genre.apply(lambda x: x.replace(\" \",\"\")) # remove spaces\n",
    "datadf['genre']=datadf.genre.apply(lambda x: x[1:-1].split(',')) # split into list\n",
    "\n",
    "mlbmodelpath=models_path.joinpath('mlb_model')\n",
    "mlbmodel=joblib.load(mlbmodelpath.joinpath('mlbmodel.pkl').as_posix())\n",
    "newcols=mlbmodel.classes_\n",
    "pred=mlbmodel.transform(datadf.genre)\n",
    "preddf=pd.DataFrame(pred,columns=newcols)\n",
    "datadf=datadf.join(preddf)\n",
    "\n",
    "descriptionmodelpath=models_path.joinpath('description_models')\n",
    "descmodel=joblib.load(descriptionmodelpath.joinpath('gridamodel.pkl').as_posix())\n",
    "newcols=descmodel.best_estimator_.named_steps['lda'].get_feature_names_out()\n",
    "pred=descmodel.best_estimator_.transform(datadf.description)\n",
    "preddf=pd.DataFrame(pred,columns=newcols)\n",
    "datadf=datadf.join(preddf)\n"
   ]
  },
  {
   "cell_type": "code",
   "execution_count": 13,
   "metadata": {},
   "outputs": [
    {
     "data": {
      "text/plain": [
       "Index(['title_x', 'book_id_x', 'user_id_mapping', 'book_id_mapping',\n",
       "       'Predicted Rating', 'Actual Rating', 'book_id_y', 'title_y',\n",
       "       'image_url', 'url', 'num_pages', 'ratings_count', 'description',\n",
       "       'genre', 'name', 'num_genres', 'biography', 'children', 'comics',\n",
       "       'crime', 'fantasy', 'fiction', 'graphic', 'historicalfiction',\n",
       "       'history', 'mystery', 'nonfiction', 'paranormal', 'poetry', 'romance',\n",
       "       'thriller', 'youngadult', 'latentdirichletallocation0',\n",
       "       'latentdirichletallocation1', 'latentdirichletallocation2'],\n",
       "      dtype='object')"
      ]
     },
     "execution_count": 13,
     "metadata": {},
     "output_type": "execute_result"
    }
   ],
   "source": [
    "# datadf.head()\n",
    "datadf.columns"
   ]
  },
  {
   "cell_type": "code",
   "execution_count": 3,
   "metadata": {},
   "outputs": [],
   "source": [
    "# drop columns not for prediction\n",
    "# copied list:\n",
    "# ['title_x','book_id_x','book_id_mapping','Predicted Rating','book_id_y', 'title_y', 'image_url', 'url','description', 'genre','num_genres']\n",
    "# keep:'user_id_mapping' for user identification --> would be replaced by cluster representation, concern: as a numerical value implies false relationship between values\n",
    "# target: 'Actual Rating'\n",
    "dropcols=['title_x','book_id_x','book_id_mapping','Predicted Rating','book_id_y', 'title_y', 'image_url', 'url','description', 'genre','num_genres','name'] #drop author name too, as binarization too big and few duplicates\n",
    "datadf=datadf.drop(dropcols,axis=1)"
   ]
  },
  {
   "cell_type": "code",
   "execution_count": 40,
   "metadata": {},
   "outputs": [
    {
     "data": {
      "text/plain": [
       "Index(['user_id_mapping', 'Actual Rating', 'num_pages', 'ratings_count',\n",
       "       'biography', 'children', 'comics', 'crime', 'fantasy', 'fiction',\n",
       "       'graphic', 'historicalfiction', 'history', 'mystery', 'nonfiction',\n",
       "       'paranormal', 'poetry', 'romance', 'thriller', 'youngadult',\n",
       "       'latentdirichletallocation0', 'latentdirichletallocation1',\n",
       "       'latentdirichletallocation2'],\n",
       "      dtype='object')"
      ]
     },
     "execution_count": 40,
     "metadata": {},
     "output_type": "execute_result"
    }
   ],
   "source": [
    "datadf.columns"
   ]
  },
  {
   "cell_type": "code",
   "execution_count": 4,
   "metadata": {},
   "outputs": [],
   "source": [
    "xtrain,xtest,ytrain,ytest=train_test_split(datadf.drop(['Actual Rating'],axis=1),datadf['Actual Rating'],test_size=0.1,random_state=randomstate,shuffle=True)"
   ]
  },
  {
   "cell_type": "code",
   "execution_count": 5,
   "metadata": {},
   "outputs": [
    {
     "name": "stdout",
     "output_type": "stream",
     "text": [
      "17841 17841\n",
      "1983 1983\n"
     ]
    }
   ],
   "source": [
    "print(len(xtrain), len(ytrain))\n",
    "print(len(xtest),len(ytest))"
   ]
  },
  {
   "cell_type": "code",
   "execution_count": 49,
   "metadata": {},
   "outputs": [
    {
     "data": {
      "text/plain": [
       "user_id_mapping                 int64\n",
       "num_pages                       int64\n",
       "ratings_count                   int64\n",
       "biography                       int32\n",
       "children                        int32\n",
       "comics                          int32\n",
       "crime                           int32\n",
       "fantasy                         int32\n",
       "fiction                         int32\n",
       "graphic                         int32\n",
       "historicalfiction               int32\n",
       "history                         int32\n",
       "mystery                         int32\n",
       "nonfiction                      int32\n",
       "paranormal                      int32\n",
       "poetry                          int32\n",
       "romance                         int32\n",
       "thriller                        int32\n",
       "youngadult                      int32\n",
       "latentdirichletallocation0    float64\n",
       "latentdirichletallocation1    float64\n",
       "latentdirichletallocation2    float64\n",
       "dtype: object"
      ]
     },
     "execution_count": 49,
     "metadata": {},
     "output_type": "execute_result"
    }
   ],
   "source": [
    "xtrain.dtypes"
   ]
  },
  {
   "cell_type": "markdown",
   "metadata": {},
   "source": [
    "## Regression"
   ]
  },
  {
   "cell_type": "code",
   "execution_count": 9,
   "metadata": {},
   "outputs": [],
   "source": [
    "from sklearn import svm\n",
    "from sklearn.tree import DecisionTreeRegressor\n",
    "predictionmodelpath=models_path.joinpath('prediction_models')\n"
   ]
  },
  {
   "cell_type": "code",
   "execution_count": 58,
   "metadata": {},
   "outputs": [],
   "source": [
    "modela=svm.SVR(max_iter=150)\n",
    "paramsa={'kernel':['linear','poly','rbf','sigmoid'],\n",
    "         'degree':[3,4],\n",
    "         'gamma':['auto','scale'],\n",
    "         'coef0':[0.0,0.5,1],\n",
    "         'tol':[0.001,0.003,0.01],\n",
    "         'C':[1.0,0.5,2.0],\n",
    "         'epsilon':[0.1,0.5],\n",
    "         'shrinking':[True,False]\n",
    "         }\n",
    "grida=GridSearchCV(modela,paramsa,n_jobs=-1,cv=5,return_train_score=True)\n",
    "\n",
    "modelb=DecisionTreeRegressor(random_state=randomstate)\n",
    "paramsb={'criterion':['squared_error','friedman_mse','absolute_error','poisson'],\n",
    "         'splitter':['best','random'],\n",
    "         'max_depth':[None,5,10],\n",
    "         'min_samples_split':[2,25,100],\n",
    "         'min_samples_leaf':[1,100,50],\n",
    "         'max_features':[None,'log2',5],\n",
    "         'max_leaf_nodes':[None,10,20],\n",
    "         'ccp_alpha':[0.0,0.2,0.5]\n",
    "         }\n",
    "gridb=GridSearchCV(modelb,paramsb,n_jobs=-1,cv=5,return_train_score=True)"
   ]
  },
  {
   "cell_type": "code",
   "execution_count": 59,
   "metadata": {},
   "outputs": [
    {
     "name": "stderr",
     "output_type": "stream",
     "text": [
      "c:\\Users\\lekle\\anaconda3\\Lib\\site-packages\\sklearn\\model_selection\\_validation.py:547: FitFailedWarning: \n",
      "540 fits failed out of a total of 8640.\n",
      "The score on these train-test partitions for these parameters will be set to nan.\n",
      "If these failures are not expected, you can try to debug them by setting error_score='raise'.\n",
      "\n",
      "Below are more details about the failures:\n",
      "--------------------------------------------------------------------------------\n",
      "540 fits failed with the following error:\n",
      "Traceback (most recent call last):\n",
      "  File \"c:\\Users\\lekle\\anaconda3\\Lib\\site-packages\\sklearn\\model_selection\\_validation.py\", line 895, in _fit_and_score\n",
      "    estimator.fit(X_train, y_train, **fit_params)\n",
      "  File \"c:\\Users\\lekle\\anaconda3\\Lib\\site-packages\\sklearn\\base.py\", line 1474, in wrapper\n",
      "    return fit_method(estimator, *args, **kwargs)\n",
      "           ^^^^^^^^^^^^^^^^^^^^^^^^^^^^^^^^^^^^^^\n",
      "  File \"c:\\Users\\lekle\\anaconda3\\Lib\\site-packages\\sklearn\\svm\\_base.py\", line 268, in fit\n",
      "    raise ValueError(\n",
      "ValueError: The dual coefficients or intercepts are not finite. The input data may contain large values and need to be preprocessed.\n",
      "\n",
      "  warnings.warn(some_fits_failed_message, FitFailedWarning)\n",
      "c:\\Users\\lekle\\anaconda3\\Lib\\site-packages\\sklearn\\model_selection\\_search.py:1051: UserWarning: One or more of the test scores are non-finite: [-2.22540178e+13 -2.22540178e+13 -2.22540178e+13 ... -1.99481701e+02\n",
      " -1.99481701e+02 -1.99481701e+02]\n",
      "  warnings.warn(\n",
      "c:\\Users\\lekle\\anaconda3\\Lib\\site-packages\\sklearn\\model_selection\\_search.py:1051: UserWarning: One or more of the train scores are non-finite: [-2.21276666e+13 -2.21276666e+13 -2.21276666e+13 ... -1.99388305e+02\n",
      " -1.99388305e+02 -1.99388305e+02]\n",
      "  warnings.warn(\n",
      "c:\\Users\\lekle\\anaconda3\\Lib\\site-packages\\sklearn\\svm\\_base.py:297: ConvergenceWarning: Solver terminated early (max_iter=150).  Consider pre-processing your data with StandardScaler or MinMaxScaler.\n",
      "  warnings.warn(\n"
     ]
    },
    {
     "data": {
      "text/plain": [
       "['c:/Users/lekle/Projects_Code/HA_MaschinellesLernen_MADS23oB/models/prediction_models/regdtmodel.pkl']"
      ]
     },
     "execution_count": 59,
     "metadata": {},
     "output_type": "execute_result"
    }
   ],
   "source": [
    "gridamodel=grida.fit(xtrain,ytrain)\n",
    "joblib.dump(gridamodel,predictionmodelpath.joinpath('regsvmmodel.pkl').as_posix())\n",
    "\n",
    "gridbmodel=gridb.fit(xtrain,ytrain)\n",
    "joblib.dump(gridbmodel,predictionmodelpath.joinpath('regdtmodel.pkl').as_posix())"
   ]
  },
  {
   "cell_type": "markdown",
   "metadata": {},
   "source": [
    "## Classification"
   ]
  },
  {
   "cell_type": "code",
   "execution_count": 15,
   "metadata": {},
   "outputs": [],
   "source": [
    "from sklearn.svm import SVC\n",
    "from sklearn.tree import DecisionTreeClassifier"
   ]
  },
  {
   "cell_type": "code",
   "execution_count": 16,
   "metadata": {},
   "outputs": [],
   "source": [
    "modelc=SVC(max_iter=150,random_state=randomstate)\n",
    "paramsc={\n",
    "    'C':[1.0,0.5,2.0],\n",
    "    'kernel':['linear','poly','rbf','sigmoid'],\n",
    "    'degree':[3,4],\n",
    "    'gamma':['auto','scale'],\n",
    "    'coef0':[0.0,0.5,1],\n",
    "    'tol':[0.001,0.003,0.01],\n",
    "    'shrinking':[True,False],\n",
    "    'decision_function_shape':['ovo','ovr']\n",
    "}\n",
    "gridc=GridSearchCV(modelc,paramsc,n_jobs=-1,cv=5,return_train_score=True)\n",
    "\n",
    "modeld=DecisionTreeClassifier(random_state=randomstate)\n",
    "paramsd={\n",
    "    'criterion':['gini','entropy','log_loss'],\n",
    "    'splitter':['best','random'],\n",
    "    'max_depth':[None,5,10],\n",
    "    'min_samples_split':[2,25,100],\n",
    "    'min_samples_leaf':[1,100,50],\n",
    "    'max_features':[None,'log2',5],\n",
    "    'max_leaf_nodes':[None,10,20],\n",
    "    'ccp_alpha':[0.0,0.2,0.5]    \n",
    "}\n",
    "gridd=GridSearchCV(modeld,paramsd,n_jobs=-1,cv=5,return_train_score=True)"
   ]
  },
  {
   "cell_type": "code",
   "execution_count": 17,
   "metadata": {},
   "outputs": [
    {
     "data": {
      "text/plain": [
       "['c:/Users/lekle/Projects_Code/HA_MaschinellesLernen_MADS23oB/models/prediction_models/clasdtmodel.pkl']"
      ]
     },
     "execution_count": 17,
     "metadata": {},
     "output_type": "execute_result"
    }
   ],
   "source": [
    "# gridcmodel=gridc.fit(xtrain,ytrain)\n",
    "# joblib.dump(gridcmodel,predictionmodelpath.joinpath('classsvmmodel.pkl').as_posix())\n",
    "\n",
    "griddmodel=gridd.fit(xtrain,ytrain)\n",
    "joblib.dump(griddmodel,predictionmodelpath.joinpath('clasdtmodel.pkl').as_posix())"
   ]
  },
  {
   "cell_type": "code",
   "execution_count": 10,
   "metadata": {},
   "outputs": [
    {
     "name": "stderr",
     "output_type": "stream",
     "text": [
      "c:\\Users\\lekle\\anaconda3\\envs\\tf-env\\lib\\site-packages\\sklearn\\base.py:347: InconsistentVersionWarning: Trying to unpickle estimator DecisionTreeClassifier from version 1.4.2 when using version 1.3.0. This might lead to breaking code or invalid results. Use at your own risk. For more info please refer to:\n",
      "https://scikit-learn.org/stable/model_persistence.html#security-maintainability-limitations\n",
      "  warnings.warn(\n",
      "c:\\Users\\lekle\\anaconda3\\envs\\tf-env\\lib\\site-packages\\sklearn\\base.py:347: InconsistentVersionWarning: Trying to unpickle estimator GridSearchCV from version 1.4.2 when using version 1.3.0. This might lead to breaking code or invalid results. Use at your own risk. For more info please refer to:\n",
      "https://scikit-learn.org/stable/model_persistence.html#security-maintainability-limitations\n",
      "  warnings.warn(\n",
      "c:\\Users\\lekle\\anaconda3\\envs\\tf-env\\lib\\site-packages\\sklearn\\base.py:347: InconsistentVersionWarning: Trying to unpickle estimator SVC from version 1.4.2 when using version 1.3.0. This might lead to breaking code or invalid results. Use at your own risk. For more info please refer to:\n",
      "https://scikit-learn.org/stable/model_persistence.html#security-maintainability-limitations\n",
      "  warnings.warn(\n",
      "c:\\Users\\lekle\\anaconda3\\envs\\tf-env\\lib\\site-packages\\sklearn\\base.py:347: InconsistentVersionWarning: Trying to unpickle estimator SVR from version 1.4.2 when using version 1.3.0. This might lead to breaking code or invalid results. Use at your own risk. For more info please refer to:\n",
      "https://scikit-learn.org/stable/model_persistence.html#security-maintainability-limitations\n",
      "  warnings.warn(\n"
     ]
    }
   ],
   "source": [
    "clasdtmodel=joblib.load(predictionmodelpath.joinpath('clasdtmodel.pkl').as_posix())\n",
    "classvmmodel=joblib.load(predictionmodelpath.joinpath('classsvmmodel.pkl').as_posix())\n",
    "\n",
    "regdtmodel=joblib.load(predictionmodelpath.joinpath('clasdtmodel.pkl').as_posix())\n",
    "regsvmmodel=joblib.load(predictionmodelpath.joinpath('regsvmmodel.pkl').as_posix())\n"
   ]
  },
  {
   "cell_type": "code",
   "execution_count": 11,
   "metadata": {},
   "outputs": [],
   "source": [
    "from sklearn.metrics import mean_squared_error\n",
    "from sklearn.metrics import accuracy_score\n",
    "# from sklearn.metrics import confusion_matrix\n",
    "from sklearn.metrics import r2_score"
   ]
  },
  {
   "cell_type": "code",
   "execution_count": 12,
   "metadata": {},
   "outputs": [],
   "source": [
    "predregsvm=regsvmmodel.predict(xtest)\n",
    "predregdt=regdtmodel.predict(xtest)\n",
    "\n",
    "msesvm=mean_squared_error(ytest,predregsvm)\n",
    "msedt=mean_squared_error(ytest,predregdt)\n",
    "r2svm=r2_score(ytest,predregsvm)\n",
    "r2dt=r2_score(ytest,predregdt)"
   ]
  },
  {
   "cell_type": "code",
   "execution_count": 11,
   "metadata": {},
   "outputs": [
    {
     "name": "stdout",
     "output_type": "stream",
     "text": [
      "MSE SVM: 1.3435918142788636, MSE DT: 1.0332349609141325\n"
     ]
    }
   ],
   "source": [
    "print(f'MSE SVM: {msesvm}, MSE DT: {msedt}')"
   ]
  },
  {
   "cell_type": "code",
   "execution_count": 14,
   "metadata": {},
   "outputs": [
    {
     "name": "stdout",
     "output_type": "stream",
     "text": [
      "R2 SVM: -0.20169660528880606, R2 DT: -0.2723536997823319\n"
     ]
    }
   ],
   "source": [
    "print(f'R2 SVM: {r2svm}, R2 DT: {r2dt}')"
   ]
  },
  {
   "cell_type": "code",
   "execution_count": 24,
   "metadata": {},
   "outputs": [],
   "source": [
    "predclassvm=classvmmodel.predict(xtest)\n",
    "predclasdt=clasdtmodel.predict(xtest)\n",
    "\n",
    "accsvm=accuracy_score(ytest,predclassvm)\n",
    "accdt=accuracy_score(ytest,predclasdt)\n",
    "msesvm2=mean_squared_error(ytest,predclassvm)\n",
    "msedt2=mean_squared_error(ytest,predclasdt)"
   ]
  },
  {
   "cell_type": "code",
   "execution_count": 25,
   "metadata": {},
   "outputs": [
    {
     "name": "stdout",
     "output_type": "stream",
     "text": [
      "Accuracy SVM: 0.3398890569843671, Accuracy DT: 0.38628340897629854\n",
      "MSE SVM: 2.017650025214322, MSE DT: 1.4225920322743317\n"
     ]
    }
   ],
   "source": [
    "print(f'Accuracy SVM: {accsvm}, Accuracy DT: {accdt}')\n",
    "print(f'MSE SVM: {msesvm2}, MSE DT: {msedt2}')"
   ]
  },
  {
   "cell_type": "markdown",
   "metadata": {},
   "source": [
    "## Regression and Classification NN"
   ]
  },
  {
   "cell_type": "code",
   "execution_count": 4,
   "metadata": {},
   "outputs": [
    {
     "name": "stderr",
     "output_type": "stream",
     "text": [
      "c:\\Users\\lekle\\anaconda3\\envs\\tf-env\\lib\\site-packages\\tqdm\\auto.py:21: TqdmWarning: IProgress not found. Please update jupyter and ipywidgets. See https://ipywidgets.readthedocs.io/en/stable/user_install.html\n",
      "  from .autonotebook import tqdm as notebook_tqdm\n"
     ]
    }
   ],
   "source": [
    "import tensorflow as tf\n",
    "from optuna import Trial, create_study\n",
    "from sklearn.model_selection import KFold\n",
    "import numpy as np\n"
   ]
  },
  {
   "cell_type": "code",
   "execution_count": 5,
   "metadata": {},
   "outputs": [],
   "source": [
    "# kf = KFold(n_splits=5, shuffle=True, random_state=randomstate)"
   ]
  },
  {
   "cell_type": "code",
   "execution_count": 16,
   "metadata": {},
   "outputs": [],
   "source": [
    "# for x in kf.split(xtrain):\n",
    "#     s=datadf.loc[x[0]]\n",
    "#     print(s.head())\n",
    "#     break"
   ]
  },
  {
   "cell_type": "code",
   "execution_count": 28,
   "metadata": {},
   "outputs": [
    {
     "data": {
      "text/plain": [
       "22"
      ]
     },
     "execution_count": 28,
     "metadata": {},
     "output_type": "execute_result"
    }
   ],
   "source": [
    "# xtrain.shape[1]"
   ]
  },
  {
   "cell_type": "code",
   "execution_count": 5,
   "metadata": {},
   "outputs": [
    {
     "name": "stdout",
     "output_type": "stream",
     "text": [
      "Directory already exists\n"
     ]
    }
   ],
   "source": [
    "xtrain,xtest,ytrain,ytest=train_test_split(datadf.drop(['Actual Rating'],axis=1),datadf['Actual Rating'],test_size=0.1,random_state=randomstate,shuffle=True)\n",
    "xtrain,xtest,ytrain,ytest=xtrain.reset_index(drop=True),xtest.reset_index(drop=True),ytrain.reset_index(drop=True),ytest.reset_index(drop=True) #kf.split() needs reset index; if drop=False, wird index zu neuer Spalte\n",
    "studyname='prediction_regression'\n",
    "thismodelpath=models_path.joinpath(f'{studyname}')\n",
    "try: \n",
    "    thismodelpath.mkdir(exist_ok=False)\n",
    "except FileExistsError:\n",
    "    print('Directory already exists')\n"
   ]
  },
  {
   "cell_type": "code",
   "execution_count": 16,
   "metadata": {},
   "outputs": [
    {
     "name": "stdout",
     "output_type": "stream",
     "text": [
      "       index  user_id_mapping  num_pages  ratings_count  biography  children  \\\n",
      "0       6101            28678        388          86210          0         0   \n",
      "1      15750            59915        184         314286          1         1   \n",
      "5       9736            69526        217         141600          1         0   \n",
      "6       5147             7295        432         675927          0         0   \n",
      "7       9540            39264        288         748926          0         0   \n",
      "...      ...              ...        ...            ...        ...       ...   \n",
      "17834  13312             5035        748         215791          0         1   \n",
      "17835  19016            70029        359         152039          0         0   \n",
      "17836  13257            57629        748         215791          0         1   \n",
      "17837   6183            10617        388          86210          0         0   \n",
      "17838  13343             6309        748         215791          0         1   \n",
      "\n",
      "       comics  crime  fantasy  fiction  ...  mystery  nonfiction  paranormal  \\\n",
      "0           0      0        1        1  ...        0           0           1   \n",
      "1           1      1        0        1  ...        1           1           0   \n",
      "5           0      0        0        0  ...        0           1           0   \n",
      "6           0      0        0        1  ...        0           0           0   \n",
      "7           0      0        0        1  ...        0           0           0   \n",
      "...       ...    ...      ...      ...  ...      ...         ...         ...   \n",
      "17834       0      0        1        1  ...        0           0           1   \n",
      "17835       0      1        1        1  ...        1           0           1   \n",
      "17836       0      0        1        1  ...        0           0           1   \n",
      "17837       0      0        1        1  ...        0           0           1   \n",
      "17838       0      0        1        1  ...        0           0           1   \n",
      "\n",
      "       poetry  romance  thriller  youngadult  latentdirichletallocation0  \\\n",
      "0           0        1         0           1                    0.007024   \n",
      "1           0        0         1           1                    0.004397   \n",
      "5           0        0         0           0                    0.003109   \n",
      "6           0        1         0           1                    0.995701   \n",
      "7           0        1         0           0                    0.993099   \n",
      "...       ...      ...       ...         ...                         ...   \n",
      "17834       0        1         0           1                    0.003613   \n",
      "17835       0        1         1           1                    0.005548   \n",
      "17836       0        1         0           1                    0.003613   \n",
      "17837       0        1         0           1                    0.007024   \n",
      "17838       0        1         0           1                    0.003613   \n",
      "\n",
      "       latentdirichletallocation1  latentdirichletallocation2  \n",
      "0                        0.985873                    0.007103  \n",
      "1                        0.991248                    0.004355  \n",
      "5                        0.993783                    0.003107  \n",
      "6                        0.002212                    0.002088  \n",
      "7                        0.003454                    0.003446  \n",
      "...                           ...                         ...  \n",
      "17834                    0.003603                    0.992784  \n",
      "17835                    0.005698                    0.988754  \n",
      "17836                    0.003603                    0.992784  \n",
      "17837                    0.985873                    0.007103  \n",
      "17838                    0.003603                    0.992784  \n",
      "\n",
      "[14272 rows x 23 columns]\n"
     ]
    }
   ],
   "source": [
    "# kf = KFold(n_splits=5, shuffle=True, random_state=randomstate)\n",
    "# for x in kf.split(xtrain):\n",
    "#         trdata=tf.convert_to_tensor(xtrain.loc[train])\n",
    "#         trlabel=tf.convert_to_tensor(ytrain.loc[train])\n",
    "#         print(trdata.shape,trlabel.shape)\n",
    "#     break"
   ]
  },
  {
   "cell_type": "code",
   "execution_count": 6,
   "metadata": {},
   "outputs": [],
   "source": [
    "def init_regmodel(trial):\n",
    "    # model definition\n",
    "    nlayers=trial.suggest_int('n_layers',1,10)\n",
    "    model=tf.keras.Sequential()\n",
    "    activation=trial.suggest_categorical('activation',['relu','tanh','sigmoid'])\n",
    "    inputshape=xtrain.shape[1]\n",
    "    model.add(tf.keras.layers.Dense(16, input_shape=(inputshape,),activation=activation))\n",
    "    for i in range(nlayers):\n",
    "        numhidden=trial.suggest_int(f'n_units_l{i}',32,128,log=True)\n",
    "        model.add(tf.keras.layers.Dense(units=numhidden,activation=activation,name=f'layer{i}'))\n",
    "    model.add(tf.keras.layers.Dense(units=1,activation='linear'))\n",
    "    model.compile(optimizer='adam', loss='mean_absolute_error', metrics=['mean_squared_error'])\n",
    "    return model\n",
    "\n",
    "def reg_objective(trial:Trial,xtrain:pd.DataFrame,ytrain:pd.Series)->float:\n",
    "    kf = KFold(n_splits=5, shuffle=True, random_state=randomstate)\n",
    "    model=init_regmodel(trial)\n",
    "    # training and evaluation\n",
    "    msetest=[]\n",
    "    for train,test in kf.split(xtrain):\n",
    "        trdata=tf.convert_to_tensor(xtrain.loc[train])\n",
    "        trlabel=tf.convert_to_tensor(ytrain.loc[train])\n",
    "        evdata=tf.convert_to_tensor(xtrain.loc[test])\n",
    "        evlabel=tf.convert_to_tensor(ytrain.loc[test])\n",
    "\n",
    "\n",
    "\n",
    "\n",
    "        model.fit(trdata,trlabel,validation_split=0.1,epochs=10, batch_size=128,verbose=0) #more verbosity seems to crash in execution\n",
    "        \n",
    "        loss,mse=model.evaluate(evdata, evlabel)\n",
    "        # predtrain=tmodel.predict(evdata)\n",
    "        # mse=tf.keras.losses.MSE(evlabel, predtrain)\n",
    "        msetest.append(mse)\n",
    "    \n",
    "    return np.mean(msetest)"
   ]
  },
  {
   "cell_type": "code",
   "execution_count": 7,
   "metadata": {},
   "outputs": [],
   "source": [
    "storage=thismodelpath.joinpath(f\"{studyname}.db\")\n",
    "if storage.exists():\n",
    "    storage.unlink()\n",
    "else:\n",
    "    print(\"No sqlite db found\")"
   ]
  },
  {
   "cell_type": "code",
   "execution_count": 8,
   "metadata": {},
   "outputs": [
    {
     "name": "stderr",
     "output_type": "stream",
     "text": [
      "[I 2024-09-06 21:22:13,168] A new study created in RDB with name: prediction_regression\n",
      "  0%|          | 0/20 [00:00<?, ?it/s]"
     ]
    },
    {
     "name": "stdout",
     "output_type": "stream",
     "text": [
      "112/112 [==============================] - 2s 15ms/step - loss: 0.7656 - mean_squared_error: 1.0735\n",
      "112/112 [==============================] - 2s 16ms/step - loss: 0.7657 - mean_squared_error: 1.0737\n",
      "112/112 [==============================] - 2s 15ms/step - loss: 0.7675 - mean_squared_error: 1.0750\n",
      "112/112 [==============================] - 2s 16ms/step - loss: 0.7672 - mean_squared_error: 1.0693\n",
      "112/112 [==============================] - 2s 15ms/step - loss: 0.7682 - mean_squared_error: 1.0754\n",
      "112/112 [==============================] - 2s 19ms/step - loss: 0.7641 - mean_squared_error: 1.0714\n",
      "112/112 [==============================] - 2s 17ms/step - loss: 19.9443 - mean_squared_error: 926.7077\n",
      "112/112 [==============================] - 2s 19ms/step - loss: 0.7660 - mean_squared_error: 1.0702\n",
      "112/112 [==============================] - 2s 19ms/step - loss: 0.7657 - mean_squared_error: 1.0712\n",
      "112/112 [==============================] - 2s 22ms/step - loss: 0.7684 - mean_squared_error: 1.0757\n",
      "112/112 [==============================] - 2s 19ms/step - loss: 1.1539 - mean_squared_error: 2.0814\n",
      "112/112 [==============================] - 2s 21ms/step - loss: 0.8835 - mean_squared_error: 1.2586\n",
      "112/112 [==============================] - 2s 18ms/step - loss: 0.7717 - mean_squared_error: 1.0782\n",
      "112/112 [==============================] - 3s 22ms/step - loss: 0.7788 - mean_squared_error: 1.0843\n",
      "112/112 [==============================] - 2s 19ms/step - loss: 0.7651 - mean_squared_error: 1.0733\n",
      "112/112 [==============================] - 3s 23ms/step - loss: 2.4611 - mean_squared_error: 8.4715\n",
      "112/112 [==============================] - 2s 16ms/step - loss: 0.7559 - mean_squared_error: 1.0702\n",
      "112/112 [==============================] - 2s 17ms/step - loss: 0.7574 - mean_squared_error: 1.0710\n",
      "112/112 [==============================] - 2s 14ms/step - loss: 0.7563 - mean_squared_error: 1.0696\n",
      "112/112 [==============================] - 2s 14ms/step - loss: 0.7651 - mean_squared_error: 1.0770\n",
      "112/112 [==============================] - 2s 15ms/step - loss: 0.7585 - mean_squared_error: 1.0720\n",
      "112/112 [==============================] - 2s 15ms/step - loss: 6.6852 - mean_squared_error: 55.5782\n",
      "112/112 [==============================] - 2s 16ms/step - loss: 0.7573 - mean_squared_error: 1.0712\n",
      "112/112 [==============================] - 2s 20ms/step - loss: 0.7633 - mean_squared_error: 1.0756\n",
      "112/112 [==============================] - 2s 19ms/step - loss: 0.7607 - mean_squared_error: 1.0735\n",
      "112/112 [==============================] - 2s 18ms/step - loss: 0.7647 - mean_squared_error: 1.0648\n",
      "112/112 [==============================] - 2s 19ms/step - loss: 1.6633 - mean_squared_error: 4.6687\n",
      "112/112 [==============================] - 2s 19ms/step - loss: 0.7677 - mean_squared_error: 1.0791\n",
      "112/112 [==============================] - 2s 17ms/step - loss: 0.7592 - mean_squared_error: 1.0725\n",
      "112/112 [==============================] - 2s 20ms/step - loss: 0.7581 - mean_squared_error: 1.0685\n",
      "112/112 [==============================] - 2s 19ms/step - loss: 0.7818 - mean_squared_error: 1.0806\n",
      "112/112 [==============================] - 2s 20ms/step - loss: 0.7645 - mean_squared_error: 1.0736\n",
      "112/112 [==============================] - 2s 16ms/step - loss: 0.7886 - mean_squared_error: 1.1066\n",
      "112/112 [==============================] - 2s 15ms/step - loss: 0.7889 - mean_squared_error: 1.1069\n",
      "112/112 [==============================] - 2s 15ms/step - loss: 0.7892 - mean_squared_error: 1.1041\n",
      "112/112 [==============================] - 2s 15ms/step - loss: 0.7943 - mean_squared_error: 1.1015\n",
      "112/112 [==============================] - 2s 14ms/step - loss: 3.9606 - mean_squared_error: 25.1661\n",
      "112/112 [==============================] - 2s 14ms/step - loss: 0.7941 - mean_squared_error: 1.1110\n",
      "112/112 [==============================] - 2s 13ms/step - loss: 0.7888 - mean_squared_error: 1.1047\n",
      "112/112 [==============================] - 2s 19ms/step - loss: 0.7954 - mean_squared_error: 1.1119\n",
      "112/112 [==============================] - 2s 16ms/step - loss: 0.7903 - mean_squared_error: 1.1037\n",
      "112/112 [==============================] - 2s 19ms/step - loss: 0.7908 - mean_squared_error: 1.1083\n",
      "112/112 [==============================] - 2s 18ms/step - loss: 0.8632 - mean_squared_error: 1.1262\n",
      "112/112 [==============================] - 2s 18ms/step - loss: 0.7894 - mean_squared_error: 1.1072\n",
      "112/112 [==============================] - 2s 19ms/step - loss: 0.7980 - mean_squared_error: 1.1142\n",
      "112/112 [==============================] - 2s 22ms/step - loss: 0.7879 - mean_squared_error: 1.1061\n",
      "112/112 [==============================] - 2s 21ms/step - loss: 0.8006 - mean_squared_error: 1.1157\n",
      "112/112 [==============================] - 2s 19ms/step - loss: 0.8045 - mean_squared_error: 1.0959\n",
      "112/112 [==============================] - 2s 17ms/step - loss: 0.8003 - mean_squared_error: 1.1492\n",
      "112/112 [==============================] - 2s 19ms/step - loss: 0.8064 - mean_squared_error: 1.1404\n",
      "112/112 [==============================] - 2s 18ms/step - loss: 0.7986 - mean_squared_error: 1.1477\n",
      "112/112 [==============================] - 2s 18ms/step - loss: 0.7974 - mean_squared_error: 1.1470\n",
      "112/112 [==============================] - 2s 14ms/step - loss: 2.0926 - mean_squared_error: 7.7556\n",
      "112/112 [==============================] - 2s 15ms/step - loss: 0.8080 - mean_squared_error: 1.1562\n",
      "112/112 [==============================] - 2s 16ms/step - loss: 0.7999 - mean_squared_error: 1.1456\n",
      "112/112 [==============================] - 2s 21ms/step - loss: 0.8065 - mean_squared_error: 1.1544\n",
      "112/112 [==============================] - 2s 20ms/step - loss: 0.8040 - mean_squared_error: 1.1425\n",
      "112/112 [==============================] - 2s 21ms/step - loss: 0.7980 - mean_squared_error: 1.1472\n",
      "112/112 [==============================] - 2s 19ms/step - loss: 0.8010 - mean_squared_error: 1.1498\n",
      "112/112 [==============================] - 2s 18ms/step - loss: 0.9428 - mean_squared_error: 1.4907\n",
      "112/112 [==============================] - 2s 19ms/step - loss: 0.8123 - mean_squared_error: 1.1369\n",
      "112/112 [==============================] - 2s 19ms/step - loss: 0.7984 - mean_squared_error: 1.1468\n",
      "112/112 [==============================] - 2s 19ms/step - loss: 0.7878 - mean_squared_error: 1.1209\n",
      "112/112 [==============================] - 2s 19ms/step - loss: 0.7868 - mean_squared_error: 1.1191\n",
      "112/112 [==============================] - 2s 20ms/step - loss: 0.8073 - mean_squared_error: 1.1499\n",
      "  8/112 [=>............................] - ETA: 1s - loss: 0.8369 - mean_squared_error: 1.0851"
     ]
    },
    {
     "name": "stderr",
     "output_type": "stream",
     "text": [
      "                                      \r"
     ]
    },
    {
     "name": "stdout",
     "output_type": "stream",
     "text": [
      " 88/112 [======================>.......] - ETA: 0s - loss: 0.8042 - mean_squared_error: 1.1545[I 2024-09-06 21:23:58,778] Trial 5 finished with value: 1.1023431539535522 and parameters: {'n_layers': 2, 'activation': 'sigmoid', 'n_units_l0': 39, 'n_units_l1': 63}. Best is trial 5 with value: 1.1023431539535522.\n"
     ]
    },
    {
     "name": "stderr",
     "output_type": "stream",
     "text": [
      "  0%|          | 0/20 [01:45<?, ?it/s]"
     ]
    },
    {
     "name": "stdout",
     "output_type": "stream",
     "text": [
      " 25/112 [=====>........................] - ETA: 1s - loss: 0.8038 - mean_squared_error: 1.1218"
     ]
    },
    {
     "name": "stderr",
     "output_type": "stream",
     "text": [
      "                                      "
     ]
    },
    {
     "name": "stdout",
     "output_type": "stream",
     "text": [
      " 19/112 [====>.........................] - ETA: 1s - loss: 0.8218 - mean_squared_error: 1.1389"
     ]
    },
    {
     "name": "stderr",
     "output_type": "stream",
     "text": [
      "\r"
     ]
    },
    {
     "name": "stdout",
     "output_type": "stream",
     "text": [
      "[I 2024-09-06 21:23:58,900] Trial 0 finished with value: 1.103722834587097 and parameters: {'n_layers': 3, 'activation': 'tanh', 'n_units_l0': 85, 'n_units_l1': 115, 'n_units_l2': 36}. Best is trial 5 with value: 1.1023431539535522.\n"
     ]
    },
    {
     "name": "stderr",
     "output_type": "stream",
     "text": [
      "  0%|          | 0/20 [01:45<?, ?it/s]"
     ]
    },
    {
     "name": "stdout",
     "output_type": "stream",
     "text": [
      " 30/112 [=======>......................] - ETA: 1s - loss: 0.7944 - mean_squared_error: 1.1171"
     ]
    },
    {
     "name": "stderr",
     "output_type": "stream",
     "text": [
      "Best trial: 5. Best value: 1.10234:   0%|          | 0/20 [01:45<?, ?it/s]"
     ]
    },
    {
     "name": "stdout",
     "output_type": "stream",
     "text": [
      " 22/112 [====>.........................] - ETA: 1s - loss: 0.7980 - mean_squared_error: 1.0944"
     ]
    },
    {
     "name": "stderr",
     "output_type": "stream",
     "text": [
      "Best trial: 5. Best value: 1.10234:   5%|▌         | 1/20 [01:45<33:31, 105.87s/it]"
     ]
    },
    {
     "name": "stdout",
     "output_type": "stream",
     "text": [
      " 28/112 [======>.......................] - ETA: 1s - loss: 0.7948 - mean_squared_error: 1.1186"
     ]
    },
    {
     "name": "stderr",
     "output_type": "stream",
     "text": [
      "Best trial: 5. Best value: 1.10234:  10%|█         | 2/20 [01:46<13:06, 43.69s/it] "
     ]
    },
    {
     "name": "stdout",
     "output_type": "stream",
     "text": [
      "112/112 [==============================] - 2s 20ms/step - loss: 0.8041 - mean_squared_error: 1.1512\n",
      "112/112 [==============================] - 2s 19ms/step - loss: 0.7888 - mean_squared_error: 1.1177\n",
      "112/112 [==============================] - 2s 18ms/step - loss: 0.7873 - mean_squared_error: 1.1193\n"
     ]
    },
    {
     "name": "stderr",
     "output_type": "stream",
     "text": [
      "Best trial: 5. Best value: 1.10234:  10%|█         | 2/20 [01:47<13:06, 43.69s/it]"
     ]
    },
    {
     "name": "stdout",
     "output_type": "stream",
     "text": [
      "[I 2024-09-06 21:24:00,856] Trial 3 finished with value: 1.1031191110610963 and parameters: {'n_layers': 3, 'activation': 'sigmoid', 'n_units_l0': 68, 'n_units_l1': 110, 'n_units_l2': 39}. Best is trial 5 with value: 1.1023431539535522.\n"
     ]
    },
    {
     "name": "stderr",
     "output_type": "stream",
     "text": [
      "Best trial: 5. Best value: 1.10234:  15%|█▌        | 3/20 [01:48<06:59, 24.67s/it]"
     ]
    },
    {
     "name": "stdout",
     "output_type": "stream",
     "text": [
      "[I 2024-09-06 21:24:01,142] Trial 4 finished with value: 1.1027643442153932 and parameters: {'n_layers': 4, 'activation': 'tanh', 'n_units_l0': 78, 'n_units_l1': 91, 'n_units_l2': 58, 'n_units_l3': 54}. Best is trial 5 with value: 1.1023431539535522.\n"
     ]
    },
    {
     "name": "stderr",
     "output_type": "stream",
     "text": [
      "Best trial: 5. Best value: 1.10234:  20%|██        | 4/20 [01:48<04:00, 15.01s/it]"
     ]
    },
    {
     "name": "stdout",
     "output_type": "stream",
     "text": [
      "112/112 [==============================] - 2s 21ms/step - loss: 0.7889 - mean_squared_error: 1.1176\n",
      "112/112 [==============================] - 2s 21ms/step - loss: 2.6415 - mean_squared_error: 12.7251\n"
     ]
    },
    {
     "name": "stderr",
     "output_type": "stream",
     "text": [
      "Best trial: 5. Best value: 1.10234:  20%|██        | 4/20 [01:52<04:00, 15.01s/it]"
     ]
    },
    {
     "name": "stdout",
     "output_type": "stream",
     "text": [
      "[I 2024-09-06 21:24:05,549] Trial 9 finished with value: 1.104007315635681 and parameters: {'n_layers': 2, 'activation': 'sigmoid', 'n_units_l0': 49, 'n_units_l1': 35}. Best is trial 5 with value: 1.1023431539535522.\n",
      "[I 2024-09-06 21:24:05,605] Trial 11 finished with value: 205.5865447998047 and parameters: {'n_layers': 4, 'activation': 'relu', 'n_units_l0': 37, 'n_units_l1': 64, 'n_units_l2': 58, 'n_units_l3': 116}. Best is trial 5 with value: 1.1023431539535522.\n"
     ]
    },
    {
     "name": "stderr",
     "output_type": "stream",
     "text": [
      "Best trial: 5. Best value: 1.10234:  30%|███       | 6/20 [01:52<01:33,  6.68s/it]"
     ]
    },
    {
     "name": "stdout",
     "output_type": "stream",
     "text": [
      "112/112 [==============================] - 3s 27ms/step - loss: 0.7863 - mean_squared_error: 1.1198\n"
     ]
    },
    {
     "name": "stderr",
     "output_type": "stream",
     "text": [
      "Best trial: 5. Best value: 1.10234:  30%|███       | 6/20 [01:56<01:33,  6.68s/it]"
     ]
    },
    {
     "name": "stdout",
     "output_type": "stream",
     "text": [
      "[I 2024-09-06 21:24:09,451] Trial 2 finished with value: 1.1047450304031372 and parameters: {'n_layers': 8, 'activation': 'tanh', 'n_units_l0': 34, 'n_units_l1': 92, 'n_units_l2': 98, 'n_units_l3': 95, 'n_units_l4': 47, 'n_units_l5': 32, 'n_units_l6': 126, 'n_units_l7': 64}. Best is trial 5 with value: 1.1023431539535522.\n"
     ]
    },
    {
     "name": "stderr",
     "output_type": "stream",
     "text": [
      "Best trial: 5. Best value: 1.10234:  35%|███▌      | 7/20 [01:56<01:16,  5.92s/it]"
     ]
    },
    {
     "name": "stdout",
     "output_type": "stream",
     "text": [
      "112/112 [==============================] - 2s 15ms/step - loss: 0.7877 - mean_squared_error: 1.1185\n",
      "112/112 [==============================] - 2s 18ms/step - loss: 0.7932 - mean_squared_error: 1.1255\n"
     ]
    },
    {
     "name": "stderr",
     "output_type": "stream",
     "text": [
      "Best trial: 5. Best value: 1.10234:  35%|███▌      | 7/20 [01:59<01:16,  5.92s/it]"
     ]
    },
    {
     "name": "stdout",
     "output_type": "stream",
     "text": [
      "[I 2024-09-06 21:24:12,861] Trial 13 finished with value: 1.1010230302810669 and parameters: {'n_layers': 9, 'activation': 'sigmoid', 'n_units_l0': 61, 'n_units_l1': 34, 'n_units_l2': 90, 'n_units_l3': 120, 'n_units_l4': 33, 'n_units_l5': 61, 'n_units_l6': 47, 'n_units_l7': 109, 'n_units_l8': 57}. Best is trial 13 with value: 1.1010230302810669.\n"
     ]
    },
    {
     "name": "stderr",
     "output_type": "stream",
     "text": [
      "Best trial: 13. Best value: 1.10102:  45%|████▌     | 9/20 [02:00<00:41,  3.76s/it]"
     ]
    },
    {
     "name": "stdout",
     "output_type": "stream",
     "text": [
      "[I 2024-09-06 21:24:13,063] Trial 12 finished with value: 1.1073248147964478 and parameters: {'n_layers': 4, 'activation': 'tanh', 'n_units_l0': 126, 'n_units_l1': 61, 'n_units_l2': 62, 'n_units_l3': 95}. Best is trial 13 with value: 1.1010230302810669.\n",
      "112/112 [==============================] - 1s 10ms/step - loss: 0.7896 - mean_squared_error: 1.1170\n",
      " 87/112 [======================>.......] - ETA: 0s - loss: 0.7894 - mean_squared_error: 1.1143"
     ]
    },
    {
     "name": "stderr",
     "output_type": "stream",
     "text": [
      "                                                                                   "
     ]
    },
    {
     "name": "stdout",
     "output_type": "stream",
     "text": [
      " 81/112 [====================>.........] - ETA: 0s - loss: 0.8267 - mean_squared_error: 1.0965"
     ]
    },
    {
     "name": "stderr",
     "output_type": "stream",
     "text": [
      "Best trial: 13. Best value: 1.10102:  45%|████▌     | 9/20 [02:01<00:41,  3.76s/it]"
     ]
    },
    {
     "name": "stdout",
     "output_type": "stream",
     "text": [
      "[I 2024-09-06 21:24:14,780] Trial 15 finished with value: 1.1041677236557006 and parameters: {'n_layers': 10, 'activation': 'tanh', 'n_units_l0': 47, 'n_units_l1': 63, 'n_units_l2': 87, 'n_units_l3': 72, 'n_units_l4': 82, 'n_units_l5': 37, 'n_units_l6': 93, 'n_units_l7': 109, 'n_units_l8': 50, 'n_units_l9': 40}. Best is trial 13 with value: 1.1010230302810669.\n",
      " 95/112 [========================>.....] - ETA: 0s - loss: 0.8289 - mean_squared_error: 1.0996"
     ]
    },
    {
     "name": "stderr",
     "output_type": "stream",
     "text": [
      "Best trial: 13. Best value: 1.10102:  50%|█████     | 10/20 [02:01<00:31,  3.19s/it]"
     ]
    },
    {
     "name": "stdout",
     "output_type": "stream",
     "text": [
      "112/112 [==============================] - 1s 12ms/step - loss: 0.7886 - mean_squared_error: 1.1216\n",
      "112/112 [==============================] - 1s 10ms/step - loss: 0.8270 - mean_squared_error: 1.1029\n",
      " 34/112 [========>.....................] - ETA: 0s - loss: 0.8062 - mean_squared_error: 1.1531"
     ]
    },
    {
     "name": "stderr",
     "output_type": "stream",
     "text": [
      "                                                                                    "
     ]
    },
    {
     "name": "stdout",
     "output_type": "stream",
     "text": [
      " 93/112 [=======================>......] - ETA: 0s - loss: 0.7948 - mean_squared_error: 1.1163"
     ]
    },
    {
     "name": "stderr",
     "output_type": "stream",
     "text": [
      "Best trial: 13. Best value: 1.10102:  50%|█████     | 10/20 [02:02<00:31,  3.19s/it]"
     ]
    },
    {
     "name": "stdout",
     "output_type": "stream",
     "text": [
      "[I 2024-09-06 21:24:15,294] Trial 6 finished with value: 2.0939876079559325 and parameters: {'n_layers': 9, 'activation': 'relu', 'n_units_l0': 63, 'n_units_l1': 82, 'n_units_l2': 52, 'n_units_l3': 75, 'n_units_l4': 55, 'n_units_l5': 33, 'n_units_l6': 64, 'n_units_l7': 48, 'n_units_l8': 89}. Best is trial 13 with value: 1.1010230302810669.\n",
      " 41/112 [=========>....................] - ETA: 0s - loss: 0.8116 - mean_squared_error: 1.1619"
     ]
    },
    {
     "name": "stderr",
     "output_type": "stream",
     "text": [
      "                                                                                    \r"
     ]
    },
    {
     "name": "stdout",
     "output_type": "stream",
     "text": [
      "[I 2024-09-06 21:24:15,317] Trial 1 finished with value: 1.1048293352127074 and parameters: {'n_layers': 10, 'activation': 'tanh', 'n_units_l0': 117, 'n_units_l1': 37, 'n_units_l2': 101, 'n_units_l3': 64, 'n_units_l4': 110, 'n_units_l5': 127, 'n_units_l6': 47, 'n_units_l7': 116, 'n_units_l8': 43, 'n_units_l9': 36}. Best is trial 13 with value: 1.1010230302810669."
     ]
    },
    {
     "name": "stderr",
     "output_type": "stream",
     "text": [
      "Best trial: 13. Best value: 1.10102:  50%|█████     | 10/20 [02:02<00:31,  3.19s/it]"
     ]
    },
    {
     "name": "stdout",
     "output_type": "stream",
     "text": [
      "\n",
      " 51/112 [============>.................] - ETA: 0s - loss: 0.7874 - mean_squared_error: 1.1078"
     ]
    },
    {
     "name": "stderr",
     "output_type": "stream",
     "text": [
      "Best trial: 13. Best value: 1.10102:  50%|█████     | 10/20 [02:02<00:31,  3.19s/it]"
     ]
    },
    {
     "name": "stdout",
     "output_type": "stream",
     "text": [
      "110/112 [============================>.] - ETA: 0s - loss: 0.7900 - mean_squared_error: 1.1127"
     ]
    },
    {
     "name": "stderr",
     "output_type": "stream",
     "text": [
      "Best trial: 13. Best value: 1.10102:  55%|█████▌    | 11/20 [02:02<00:21,  2.41s/it]"
     ]
    },
    {
     "name": "stdout",
     "output_type": "stream",
     "text": [
      "112/112 [==============================] - 1s 10ms/step - loss: 0.7910 - mean_squared_error: 1.1159\n",
      " 57/112 [==============>...............] - ETA: 0s - loss: 0.7800 - mean_squared_error: 1.0972"
     ]
    },
    {
     "name": "stderr",
     "output_type": "stream",
     "text": [
      "Best trial: 13. Best value: 1.10102:  55%|█████▌    | 11/20 [02:02<00:21,  2.41s/it]"
     ]
    },
    {
     "name": "stdout",
     "output_type": "stream",
     "text": [
      " 69/112 [=================>............] - ETA: 0s - loss: 0.7856 - mean_squared_error: 1.1083"
     ]
    },
    {
     "name": "stderr",
     "output_type": "stream",
     "text": [
      "Best trial: 13. Best value: 1.10102:  60%|██████    | 12/20 [02:02<00:19,  2.41s/it]"
     ]
    },
    {
     "name": "stdout",
     "output_type": "stream",
     "text": [
      "[I 2024-09-06 21:24:15,623] Trial 8 finished with value: 1.1060708999633788 and parameters: {'n_layers': 8, 'activation': 'tanh', 'n_units_l0': 43, 'n_units_l1': 58, 'n_units_l2': 95, 'n_units_l3': 52, 'n_units_l4': 83, 'n_units_l5': 99, 'n_units_l6': 52, 'n_units_l7': 127}. Best is trial 13 with value: 1.1010230302810669.\n",
      " 83/112 [=====================>........] - ETA: 0s - loss: 0.7929 - mean_squared_error: 1.1230"
     ]
    },
    {
     "name": "stderr",
     "output_type": "stream",
     "text": [
      "Best trial: 13. Best value: 1.10102:  65%|██████▌   | 13/20 [02:02<00:09,  1.37s/it]"
     ]
    },
    {
     "name": "stdout",
     "output_type": "stream",
     "text": [
      "112/112 [==============================] - 1s 8ms/step - loss: 0.7892 - mean_squared_error: 1.1221\n"
     ]
    },
    {
     "name": "stderr",
     "output_type": "stream",
     "text": [
      "Best trial: 13. Best value: 1.10102:  65%|██████▌   | 13/20 [02:02<00:09,  1.37s/it]"
     ]
    },
    {
     "name": "stdout",
     "output_type": "stream",
     "text": [
      "[I 2024-09-06 21:24:15,936] Trial 7 finished with value: 1.1041629552841186 and parameters: {'n_layers': 10, 'activation': 'sigmoid', 'n_units_l0': 77, 'n_units_l1': 80, 'n_units_l2': 36, 'n_units_l3': 49, 'n_units_l4': 42, 'n_units_l5': 69, 'n_units_l6': 36, 'n_units_l7': 46, 'n_units_l8': 101, 'n_units_l9': 35}. Best is trial 13 with value: 1.1010230302810669.\n"
     ]
    },
    {
     "name": "stderr",
     "output_type": "stream",
     "text": [
      "Best trial: 13. Best value: 1.10102:  70%|███████   | 14/20 [02:02<00:06,  1.11s/it]"
     ]
    },
    {
     "name": "stdout",
     "output_type": "stream",
     "text": [
      "112/112 [==============================] - 1s 5ms/step - loss: 0.8064 - mean_squared_error: 1.1408\n",
      " 83/112 [=====================>........] - ETA: 0s - loss: 0.9238 - mean_squared_error: 1.3423"
     ]
    },
    {
     "name": "stderr",
     "output_type": "stream",
     "text": [
      "Best trial: 13. Best value: 1.10102:  70%|███████   | 14/20 [02:03<00:06,  1.11s/it]"
     ]
    },
    {
     "name": "stdout",
     "output_type": "stream",
     "text": [
      "[I 2024-09-06 21:24:16,965] Trial 14 finished with value: 2.5916846990585327 and parameters: {'n_layers': 9, 'activation': 'relu', 'n_units_l0': 39, 'n_units_l1': 38, 'n_units_l2': 70, 'n_units_l3': 74, 'n_units_l4': 98, 'n_units_l5': 73, 'n_units_l6': 34, 'n_units_l7': 119, 'n_units_l8': 33}. Best is trial 13 with value: 1.1010230302810669.\n",
      " 93/112 [=======================>......] - ETA: 0s - loss: 0.9230 - mean_squared_error: 1.3407"
     ]
    },
    {
     "name": "stderr",
     "output_type": "stream",
     "text": [
      "Best trial: 13. Best value: 1.10102:  75%|███████▌  | 15/20 [02:03<00:05,  1.09s/it]"
     ]
    },
    {
     "name": "stdout",
     "output_type": "stream",
     "text": [
      "112/112 [==============================] - 1s 5ms/step - loss: 0.9192 - mean_squared_error: 1.3398\n"
     ]
    },
    {
     "name": "stderr",
     "output_type": "stream",
     "text": [
      "Best trial: 13. Best value: 1.10102:  75%|███████▌  | 15/20 [02:04<00:05,  1.09s/it]"
     ]
    },
    {
     "name": "stdout",
     "output_type": "stream",
     "text": [
      "[I 2024-09-06 21:24:17,166] Trial 10 finished with value: 1.1838032960891725 and parameters: {'n_layers': 10, 'activation': 'relu', 'n_units_l0': 71, 'n_units_l1': 43, 'n_units_l2': 32, 'n_units_l3': 128, 'n_units_l4': 86, 'n_units_l5': 48, 'n_units_l6': 73, 'n_units_l7': 120, 'n_units_l8': 73, 'n_units_l9': 57}. Best is trial 13 with value: 1.1010230302810669.\n"
     ]
    },
    {
     "name": "stderr",
     "output_type": "stream",
     "text": [
      "Best trial: 13. Best value: 1.10102:  80%|████████  | 16/20 [02:04<00:03,  1.19it/s]"
     ]
    },
    {
     "name": "stdout",
     "output_type": "stream",
     "text": [
      "112/112 [==============================] - 0s 2ms/step - loss: 335.8067 - mean_squared_error: 178691.2969\n",
      "112/112 [==============================] - 0s 2ms/step - loss: 0.7746 - mean_squared_error: 1.0812\n",
      "112/112 [==============================] - 0s 3ms/step - loss: 0.7702 - mean_squared_error: 1.0762\n",
      "112/112 [==============================] - 0s 3ms/step - loss: 0.9880 - mean_squared_error: 1.5258\n",
      "112/112 [==============================] - 0s 2ms/step - loss: 85.3459 - mean_squared_error: 10322.6436\n",
      "112/112 [==============================] - 0s 3ms/step - loss: 0.7602 - mean_squared_error: 1.0733\n",
      "112/112 [==============================] - 0s 3ms/step - loss: 0.7569 - mean_squared_error: 1.0710\n",
      "112/112 [==============================] - 0s 3ms/step - loss: 44.8875 - mean_squared_error: 3321.6228\n",
      "112/112 [==============================] - 0s 2ms/step - loss: 0.8113 - mean_squared_error: 1.0939\n",
      "112/112 [==============================] - 0s 4ms/step - loss: 0.8620 - mean_squared_error: 1.2367\n",
      "112/112 [==============================] - 0s 3ms/step - loss: 0.7993 - mean_squared_error: 1.0981\n",
      "112/112 [==============================] - 0s 3ms/step - loss: 0.8043 - mean_squared_error: 1.1529\n",
      "112/112 [==============================] - 0s 3ms/step - loss: 85.2743 - mean_squared_error: 10102.1455\n",
      "112/112 [==============================] - 0s 3ms/step - loss: 0.7985 - mean_squared_error: 1.1471\n",
      "112/112 [==============================] - 0s 3ms/step - loss: 0.8045 - mean_squared_error: 1.1010\n",
      "112/112 [==============================] - 0s 3ms/step - loss: 0.7924 - mean_squared_error: 1.1249\n"
     ]
    },
    {
     "name": "stderr",
     "output_type": "stream",
     "text": [
      "Best trial: 13. Best value: 1.10102:  85%|████████▌ | 17/20 [02:23<00:17,  5.92s/it]"
     ]
    },
    {
     "name": "stdout",
     "output_type": "stream",
     "text": [
      "[I 2024-09-06 21:24:36,257] Trial 18 finished with value: 1.1052341699600219 and parameters: {'n_layers': 1, 'activation': 'tanh', 'n_units_l0': 93}. Best is trial 13 with value: 1.1010230302810669.\n",
      "112/112 [==============================] - 0s 2ms/step - loss: 84.7573 - mean_squared_error: 12180.2939\n"
     ]
    },
    {
     "name": "stderr",
     "output_type": "stream",
     "text": [
      "Best trial: 13. Best value: 1.10102:  85%|████████▌ | 17/20 [02:23<00:17,  5.92s/it]"
     ]
    },
    {
     "name": "stdout",
     "output_type": "stream",
     "text": [
      "[I 2024-09-06 21:24:36,823] Trial 16 finished with value: 42923.60053710938 and parameters: {'n_layers': 2, 'activation': 'relu', 'n_units_l0': 90, 'n_units_l1': 54}. Best is trial 13 with value: 1.1010230302810669.\n"
     ]
    },
    {
     "name": "stderr",
     "output_type": "stream",
     "text": [
      "Best trial: 13. Best value: 1.10102:  90%|█████████ | 18/20 [02:23<00:08,  4.39s/it]"
     ]
    },
    {
     "name": "stdout",
     "output_type": "stream",
     "text": [
      "112/112 [==============================] - 0s 1ms/step - loss: 0.7888 - mean_squared_error: 1.1215\n"
     ]
    },
    {
     "name": "stderr",
     "output_type": "stream",
     "text": [
      "Best trial: 13. Best value: 1.10102:  95%|█████████▌| 19/20 [02:24<00:03,  3.46s/it]"
     ]
    },
    {
     "name": "stdout",
     "output_type": "stream",
     "text": [
      "[I 2024-09-06 21:24:37,994] Trial 19 finished with value: 1.1027844905853272 and parameters: {'n_layers': 2, 'activation': 'tanh', 'n_units_l0': 98, 'n_units_l1': 52}. Best is trial 13 with value: 1.1010230302810669.\n",
      "112/112 [==============================] - 0s 1ms/step - loss: 0.8018 - mean_squared_error: 1.1478\n",
      "112/112 [==============================] - 0s 2ms/step - loss: 0.7974 - mean_squared_error: 1.1101\n"
     ]
    },
    {
     "name": "stderr",
     "output_type": "stream",
     "text": [
      "Best trial: 13. Best value: 1.10102: 100%|██████████| 20/20 [02:33<00:00,  7.67s/it]"
     ]
    },
    {
     "name": "stdout",
     "output_type": "stream",
     "text": [
      "[I 2024-09-06 21:24:46,585] Trial 17 finished with value: 1.2242587327957153 and parameters: {'n_layers': 9, 'activation': 'relu', 'n_units_l0': 41, 'n_units_l1': 38, 'n_units_l2': 54, 'n_units_l3': 63, 'n_units_l4': 68, 'n_units_l5': 77, 'n_units_l6': 98, 'n_units_l7': 72, 'n_units_l8': 92}. Best is trial 13 with value: 1.1010230302810669.\n"
     ]
    },
    {
     "name": "stderr",
     "output_type": "stream",
     "text": [
      "\n"
     ]
    }
   ],
   "source": [
    "study=create_study(study_name=studyname,direction='minimize',storage=f'sqlite:///{storage.as_posix()}',load_if_exists=False)\n",
    "study.optimize(lambda trial: reg_objective(trial,xtrain,ytrain),n_trials=20,n_jobs=-1,show_progress_bar=True)"
   ]
  },
  {
   "cell_type": "code",
   "execution_count": 9,
   "metadata": {},
   "outputs": [
    {
     "data": {
      "text/plain": [
       "['c:/Users/lekle/Projects_Code/HA_MaschinellesLernen_MADS23oB/models/prediction_regression/study_prediction_regression.pkl']"
      ]
     },
     "execution_count": 9,
     "metadata": {},
     "output_type": "execute_result"
    }
   ],
   "source": [
    "joblib.dump(study,thismodelpath.joinpath(f'study_{study.study_name}.pkl').as_posix())"
   ]
  },
  {
   "cell_type": "code",
   "execution_count": 12,
   "metadata": {},
   "outputs": [
    {
     "name": "stdout",
     "output_type": "stream",
     "text": [
      "INFO:tensorflow:Assets written to: c:/Users/lekle/Projects_Code/HA_MaschinellesLernen_MADS23oB/models/prediction_regression/fmodel_reg.pkl\\assets\n"
     ]
    }
   ],
   "source": [
    "model = init_regmodel(study.best_trial)\n",
    "model.fit(tf.convert_to_tensor(xtrain),tf.convert_to_tensor(ytrain),validation_split=0.1,epochs=10, batch_size=128,verbose=0)\n",
    "model.save(thismodelpath.joinpath(f'fmodel_reg.h5').as_posix())\n",
    "model.save(thismodelpath.joinpath(f'fmodel_reg.h5').as_posix())"
   ]
  },
  {
   "cell_type": "code",
   "execution_count": 5,
   "metadata": {},
   "outputs": [
    {
     "name": "stdout",
     "output_type": "stream",
     "text": [
      "Directory already exists\n"
     ]
    },
    {
     "name": "stderr",
     "output_type": "stream",
     "text": [
      "[I 2024-09-06 22:07:13,694] A new study created in RDB with name: prediction_classification\n",
      "  0%|          | 0/20 [00:00<?, ?it/s]"
     ]
    },
    {
     "name": "stdout",
     "output_type": "stream",
     "text": [
      "112/112 [==============================] - 1s 13ms/step - loss: 1.3652 - accuracy: 0.3528\n",
      "112/112 [==============================] - 2s 14ms/step - loss: 49.4283 - accuracy: 0.3528\n",
      "112/112 [==============================] - 2s 17ms/step - loss: 1.3630 - accuracy: 0.3446\n",
      "112/112 [==============================] - 2s 16ms/step - loss: 1.3618 - accuracy: 0.3303\n",
      "112/112 [==============================] - 2s 16ms/step - loss: 138.9933 - accuracy: 0.3348\n",
      "112/112 [==============================] - 2s 18ms/step - loss: 2.2845 - accuracy: 0.3284\n",
      "112/112 [==============================] - 3s 23ms/step - loss: 1.8244 - accuracy: 0.3544\n",
      "112/112 [==============================] - 2s 22ms/step - loss: 1.3612 - accuracy: 0.3528\n",
      "112/112 [==============================] - 3s 25ms/step - loss: 1.3622 - accuracy: 0.3505\n",
      "112/112 [==============================] - 2s 20ms/step - loss: 12.2396 - accuracy: 0.3147\n",
      "112/112 [==============================] - 2s 21ms/step - loss: 1.3639 - accuracy: 0.3528\n",
      "112/112 [==============================] - 2s 20ms/step - loss: 1.3616 - accuracy: 0.3528\n",
      "112/112 [==============================] - 2s 21ms/step - loss: 1.3680 - accuracy: 0.3528\n",
      "112/112 [==============================] - 2s 20ms/step - loss: 1.3641 - accuracy: 0.3303\n",
      "112/112 [==============================] - 2s 20ms/step - loss: 1.3631 - accuracy: 0.3491\n",
      "112/112 [==============================] - 2s 18ms/step - loss: 1.3666 - accuracy: 0.3528\n",
      "112/112 [==============================] - 2s 13ms/step - loss: 1.3821 - accuracy: 0.3397\n",
      "112/112 [==============================] - 2s 14ms/step - loss: 8.7959 - accuracy: 0.3316\n",
      "112/112 [==============================] - 2s 14ms/step - loss: 505.4593 - accuracy: 0.0975\n",
      "112/112 [==============================] - 2s 17ms/step - loss: 1.3765 - accuracy: 0.3397\n",
      "112/112 [==============================] - 2s 18ms/step - loss: 1.3756 - accuracy: 0.3397\n",
      "112/112 [==============================] - 2s 19ms/step - loss: 1.5238 - accuracy: 0.3380\n",
      "112/112 [==============================] - 2s 19ms/step - loss: 1.4550 - accuracy: 0.3304\n",
      "112/112 [==============================] - 2s 18ms/step - loss: 1.3752 - accuracy: 0.3156\n",
      "112/112 [==============================] - 2s 19ms/step - loss: 1.3775 - accuracy: 0.3397\n",
      "112/112 [==============================] - 2s 20ms/step - loss: 2.9756 - accuracy: 0.2012\n",
      "112/112 [==============================] - 2s 21ms/step - loss: 1.3762 - accuracy: 0.3397\n",
      "112/112 [==============================] - 2s 20ms/step - loss: 1.3785 - accuracy: 0.3397\n",
      "112/112 [==============================] - 2s 21ms/step - loss: 1.3785 - accuracy: 0.3293\n",
      "112/112 [==============================] - 2s 19ms/step - loss: 1.3790 - accuracy: 0.3397\n",
      "112/112 [==============================] - 2s 20ms/step - loss: 1.3801 - accuracy: 0.3397\n",
      "112/112 [==============================] - 2s 19ms/step - loss: 1.3750 - accuracy: 0.3397\n",
      "112/112 [==============================] - 2s 16ms/step - loss: 1.3729 - accuracy: 0.3374\n",
      "112/112 [==============================] - 2s 15ms/step - loss: 3.3130 - accuracy: 0.2517\n",
      "112/112 [==============================] - 2s 13ms/step - loss: 490.0345 - accuracy: 0.3206\n",
      "112/112 [==============================] - 2s 17ms/step - loss: 1.3704 - accuracy: 0.3582\n",
      "112/112 [==============================] - 2s 19ms/step - loss: 1.3761 - accuracy: 0.3206\n",
      "112/112 [==============================] - 2s 18ms/step - loss: 1.3711 - accuracy: 0.3582\n",
      "112/112 [==============================] - 2s 17ms/step - loss: 1.4719 - accuracy: 0.3517\n",
      "112/112 [==============================] - 2s 18ms/step - loss: 1.3717 - accuracy: 0.3582\n",
      "112/112 [==============================] - 2s 17ms/step - loss: 1.3709 - accuracy: 0.3582\n",
      "112/112 [==============================] - 2s 20ms/step - loss: 1.6519 - accuracy: 0.2155\n",
      "112/112 [==============================] - 3s 22ms/step - loss: 1.3708 - accuracy: 0.3582\n",
      "112/112 [==============================] - 2s 20ms/step - loss: 1.3712 - accuracy: 0.3582\n",
      "112/112 [==============================] - 2s 21ms/step - loss: 1.3728 - accuracy: 0.3582\n",
      "112/112 [==============================] - 2s 19ms/step - loss: 1.3740 - accuracy: 0.3582\n",
      "112/112 [==============================] - 2s 19ms/step - loss: 1.3713 - accuracy: 0.3582\n",
      "112/112 [==============================] - 2s 17ms/step - loss: 1.3649 - accuracy: 0.3565\n",
      "112/112 [==============================] - 2s 18ms/step - loss: 1.3737 - accuracy: 0.3587\n",
      "112/112 [==============================] - 2s 14ms/step - loss: 1.8372 - accuracy: 0.3554\n",
      "112/112 [==============================] - 2s 14ms/step - loss: 606.0073 - accuracy: 0.2189\n",
      "112/112 [==============================] - 2s 19ms/step - loss: 1.3631 - accuracy: 0.3192\n",
      "112/112 [==============================] - 2s 18ms/step - loss: 1.3632 - accuracy: 0.3453\n",
      "112/112 [==============================] - 2s 22ms/step - loss: 1.3632 - accuracy: 0.3593\n",
      "112/112 [==============================] - 2s 19ms/step - loss: 1.3645 - accuracy: 0.3201\n",
      "112/112 [==============================] - 2s 18ms/step - loss: 1.4046 - accuracy: 0.3358\n",
      "112/112 [==============================] - 2s 21ms/step - loss: 1.3621 - accuracy: 0.3593\n",
      "112/112 [==============================] - 2s 18ms/step - loss: 1.3623 - accuracy: 0.3593\n",
      "112/112 [==============================] - 3s 22ms/step - loss: 1.3642 - accuracy: 0.3593\n",
      "112/112 [==============================] - 3s 23ms/step - loss: 1.3622 - accuracy: 0.3593\n",
      "112/112 [==============================] - 2s 18ms/step - loss: 1.3622 - accuracy: 0.3593\n",
      "112/112 [==============================] - 2s 18ms/step - loss: 1.3811 - accuracy: 0.3159\n",
      "112/112 [==============================] - 2s 20ms/step - loss: 1.3642 - accuracy: 0.3593\n",
      " 86/112 [======================>.......] - ETA: 0s - loss: 1.3695 - accuracy: 0.3623"
     ]
    },
    {
     "name": "stderr",
     "output_type": "stream",
     "text": [
      "                                      \r"
     ]
    },
    {
     "name": "stdout",
     "output_type": "stream",
     "text": [
      " 89/112 [======================>.......] - ETA: 0s - loss: 1.3718 - accuracy: 0.3592[I 2024-09-06 22:08:53,855] Trial 2 finished with value: 0.3404510736465454 and parameters: {'n_layers': 1, 'activation': 'sigmoid', 'n_units_l0': 122}. Best is trial 2 with value: 0.3404510736465454.\n"
     ]
    },
    {
     "name": "stderr",
     "output_type": "stream",
     "text": [
      "  0%|          | 0/20 [01:40<?, ?it/s]"
     ]
    },
    {
     "name": "stdout",
     "output_type": "stream",
     "text": [
      " 97/112 [========================>.....] - ETA: 0s - loss: 1.3668 - accuracy: 0.3576"
     ]
    },
    {
     "name": "stderr",
     "output_type": "stream",
     "text": [
      "Best trial: 2. Best value: 0.340451:   0%|          | 0/20 [01:40<?, ?it/s]"
     ]
    },
    {
     "name": "stdout",
     "output_type": "stream",
     "text": [
      "100/112 [=========================>....] - ETA: 0s - loss: 1.3650 - accuracy: 0.3575"
     ]
    },
    {
     "name": "stderr",
     "output_type": "stream",
     "text": [
      "Best trial: 2. Best value: 0.340451:   5%|▌         | 1/20 [01:40<31:48, 100.46s/it]"
     ]
    },
    {
     "name": "stdout",
     "output_type": "stream",
     "text": [
      "112/112 [==============================] - 2s 19ms/step - loss: 1.3639 - accuracy: 0.3593\n",
      "112/112 [==============================] - 2s 20ms/step - loss: 1.3635 - accuracy: 0.3593\n",
      "112/112 [==============================] - 2s 18ms/step - loss: 1.3863 - accuracy: 0.3464\n",
      "112/112 [==============================] - 2s 16ms/step - loss: 204.7714 - accuracy: 0.3512\n"
     ]
    },
    {
     "name": "stderr",
     "output_type": "stream",
     "text": [
      "Best trial: 2. Best value: 0.340451:   5%|▌         | 1/20 [01:49<31:48, 100.46s/it]"
     ]
    },
    {
     "name": "stdout",
     "output_type": "stream",
     "text": [
      "[I 2024-09-06 22:09:03,383] Trial 1 finished with value: 0.32755870223045347 and parameters: {'n_layers': 4, 'activation': 'relu', 'n_units_l0': 45, 'n_units_l1': 41, 'n_units_l2': 90, 'n_units_l3': 123}. Best is trial 2 with value: 0.3404510736465454.\n"
     ]
    },
    {
     "name": "stderr",
     "output_type": "stream",
     "text": [
      "Best trial: 2. Best value: 0.340451:  10%|█         | 2/20 [01:49<14:03, 46.86s/it] "
     ]
    },
    {
     "name": "stdout",
     "output_type": "stream",
     "text": [
      "[I 2024-09-06 22:09:03,466] Trial 13 finished with value: 0.2646112784743309 and parameters: {'n_layers': 1, 'activation': 'relu', 'n_units_l0': 40}. Best is trial 2 with value: 0.3404510736465454.\n",
      "112/112 [==============================] - 3s 26ms/step - loss: 1.3815 - accuracy: 0.3442\n",
      " 21/112 [====>.........................] - ETA: 2s - loss: 1.3410 - accuracy: 0.3408"
     ]
    },
    {
     "name": "stderr",
     "output_type": "stream",
     "text": [
      "                                                                                   "
     ]
    },
    {
     "name": "stdout",
     "output_type": "stream",
     "text": [
      " 55/112 [=============>................] - ETA: 1s - loss: 1.4199 - accuracy: 0.3307"
     ]
    },
    {
     "name": "stderr",
     "output_type": "stream",
     "text": [
      "\r"
     ]
    },
    {
     "name": "stdout",
     "output_type": "stream",
     "text": [
      "[I 2024-09-06 22:09:09,867] Trial 14 finished with value: 0.34274940490722655 and parameters: {'n_layers': 3, 'activation': 'tanh', 'n_units_l0': 43, 'n_units_l1': 123, 'n_units_l2': 79}. Best is trial 14 with value: 0.34274940490722655.\n",
      " 58/112 [==============>...............] - ETA: 1s - loss: 1.4085 - accuracy: 0.3362"
     ]
    },
    {
     "name": "stderr",
     "output_type": "stream",
     "text": [
      "Best trial: 2. Best value: 0.340451:  15%|█▌        | 3/20 [01:56<13:16, 46.86s/it]"
     ]
    },
    {
     "name": "stdout",
     "output_type": "stream",
     "text": [
      "100/112 [=========================>....] - ETA: 0s - loss: 1.3865 - accuracy: 0.3406"
     ]
    },
    {
     "name": "stderr",
     "output_type": "stream",
     "text": [
      "Best trial: 14. Best value: 0.342749:  20%|██        | 4/20 [01:56<05:13, 19.59s/it]"
     ]
    },
    {
     "name": "stdout",
     "output_type": "stream",
     "text": [
      "112/112 [==============================] - 3s 28ms/step - loss: 1.3805 - accuracy: 0.3442\n",
      "112/112 [==============================] - 3s 26ms/step - loss: 1.4147 - accuracy: 0.3114\n",
      "112/112 [==============================] - 3s 25ms/step - loss: 1.3796 - accuracy: 0.3442\n",
      "112/112 [==============================] - 3s 28ms/step - loss: 1.3803 - accuracy: 0.3442\n",
      "112/112 [==============================] - 2s 20ms/step - loss: 1.3832 - accuracy: 0.3442\n",
      "112/112 [==============================] - 3s 23ms/step - loss: 1.3818 - accuracy: 0.3442\n",
      " 91/112 [=======================>......] - ETA: 0s - loss: 1.3942 - accuracy: 0.3362"
     ]
    },
    {
     "name": "stderr",
     "output_type": "stream",
     "text": [
      "                                                                                    "
     ]
    },
    {
     "name": "stdout",
     "output_type": "stream",
     "text": [
      "  5/112 [>.............................] - ETA: 1s - loss: 1.2556 - accuracy: 0.3562"
     ]
    },
    {
     "name": "stderr",
     "output_type": "stream",
     "text": [
      "Best trial: 14. Best value: 0.342749:  20%|██        | 4/20 [01:58<05:13, 19.59s/it]"
     ]
    },
    {
     "name": "stdout",
     "output_type": "stream",
     "text": [
      "[I 2024-09-06 22:09:12,484] Trial 7 finished with value: 0.33832228779792783 and parameters: {'n_layers': 8, 'activation': 'sigmoid', 'n_units_l0': 95, 'n_units_l1': 33, 'n_units_l2': 38, 'n_units_l3': 60, 'n_units_l4': 54, 'n_units_l5': 39, 'n_units_l6': 36, 'n_units_l7': 32}. Best is trial 8 with value: 0.34801824688911437.\n",
      " 21/112 [====>.........................] - ETA: 2s - loss: 1.3377 - accuracy: 0.3408"
     ]
    },
    {
     "name": "stderr",
     "output_type": "stream",
     "text": [
      "                                                                                    "
     ]
    },
    {
     "name": "stdout",
     "output_type": "stream",
     "text": [
      "108/112 [===========================>..] - ETA: 0s - loss: 1.3839 - accuracy: 0.3440"
     ]
    },
    {
     "name": "stderr",
     "output_type": "stream",
     "text": [
      "\r"
     ]
    },
    {
     "name": "stdout",
     "output_type": "stream",
     "text": [
      " 23/112 [=====>........................] - ETA: 2s - loss: 1.3469 - accuracy: 0.3383[I 2024-09-06 22:09:12,868] Trial 3 finished with value: 0.34560939073562624 and parameters: {'n_layers': 5, 'activation': 'relu', 'n_units_l0': 72, 'n_units_l1': 104, 'n_units_l2': 38, 'n_units_l3': 88, 'n_units_l4': 64}. Best is trial 6 with value: 0.3508210301399231.\n"
     ]
    },
    {
     "name": "stderr",
     "output_type": "stream",
     "text": [
      "Best trial: 14. Best value: 0.342749:  20%|██        | 4/20 [01:59<05:13, 19.59s/it]"
     ]
    },
    {
     "name": "stdout",
     "output_type": "stream",
     "text": [
      " 25/112 [=====>........................] - ETA: 2s - loss: 1.3582 - accuracy: 0.3400"
     ]
    },
    {
     "name": "stderr",
     "output_type": "stream",
     "text": [
      "                                                                                    "
     ]
    },
    {
     "name": "stdout",
     "output_type": "stream",
     "text": [
      "110/112 [============================>.] - ETA: 0s - loss: 1.3834 - accuracy: 0.3460"
     ]
    },
    {
     "name": "stderr",
     "output_type": "stream",
     "text": [
      "\r"
     ]
    },
    {
     "name": "stdout",
     "output_type": "stream",
     "text": [
      "[I 2024-09-06 22:09:12,915] Trial 8 finished with value: 0.34801824688911437 and parameters: {'n_layers': 8, 'activation': 'relu', 'n_units_l0': 83, 'n_units_l1': 39, 'n_units_l2': 90, 'n_units_l3': 73, 'n_units_l4': 123, 'n_units_l5': 79, 'n_units_l6': 114, 'n_units_l7': 44}. Best is trial 6 with value: 0.3508210301399231.\n"
     ]
    },
    {
     "name": "stderr",
     "output_type": "stream",
     "text": [
      "Best trial: 14. Best value: 0.342749:  20%|██        | 4/20 [01:59<05:13, 19.59s/it]"
     ]
    },
    {
     "name": "stdout",
     "output_type": "stream",
     "text": [
      "112/112 [==============================] - 2s 18ms/step - loss: 1.3823 - accuracy: 0.3442\n",
      "  1/112 [..............................] - ETA: 9s - loss: 1.1413 - accuracy: 0.4375"
     ]
    },
    {
     "name": "stderr",
     "output_type": "stream",
     "text": [
      "                                                                                    "
     ]
    },
    {
     "name": "stdout",
     "output_type": "stream",
     "text": [
      " 31/112 [=======>......................] - ETA: 2s - loss: 1.3447 - accuracy: 0.3478"
     ]
    },
    {
     "name": "stderr",
     "output_type": "stream",
     "text": [
      "\r"
     ]
    },
    {
     "name": "stdout",
     "output_type": "stream",
     "text": [
      "  6/112 [>.............................] - ETA: 3s - loss: 1.2898 - accuracy: 0.3542[I 2024-09-06 22:09:13,020] Trial 15 finished with value: 0.2757110595703125 and parameters: {'n_layers': 5, 'activation': 'relu', 'n_units_l0': 55, 'n_units_l1': 58, 'n_units_l2': 50, 'n_units_l3': 103, 'n_units_l4': 45}. Best is trial 6 with value: 0.3508210301399231.\n",
      "  3/112 [..............................] - ETA: 4s - loss: 1.2272 - accuracy: 0.3333"
     ]
    },
    {
     "name": "stderr",
     "output_type": "stream",
     "text": [
      "Best trial: 14. Best value: 0.342749:  20%|██        | 4/20 [01:59<05:13, 19.59s/it]"
     ]
    },
    {
     "name": "stdout",
     "output_type": "stream",
     "text": [
      " 32/112 [=======>......................] - ETA: 2s - loss: 1.3463 - accuracy: 0.3477"
     ]
    },
    {
     "name": "stderr",
     "output_type": "stream",
     "text": [
      "                                                                                    \r"
     ]
    },
    {
     "name": "stdout",
     "output_type": "stream",
     "text": [
      "[I 2024-09-06 22:09:13,150] Trial 6 finished with value: 0.3508210301399231 and parameters: {'n_layers': 10, 'activation': 'sigmoid', 'n_units_l0': 41, 'n_units_l1': 101, 'n_units_l2': 91, 'n_units_l3': 113, 'n_units_l4': 114, 'n_units_l5': 101, 'n_units_l6': 47, 'n_units_l7': 37, 'n_units_l8': 97, 'n_units_l9': 39}. Best is trial 6 with value: 0.3508210301399231."
     ]
    },
    {
     "name": "stderr",
     "output_type": "stream",
     "text": [
      "Best trial: 14. Best value: 0.342749:  20%|██        | 4/20 [01:59<05:13, 19.59s/it]"
     ]
    },
    {
     "name": "stdout",
     "output_type": "stream",
     "text": [
      "\n",
      "  9/112 [=>............................] - ETA: 4s - loss: 1.2935 - accuracy: 0.3542"
     ]
    },
    {
     "name": "stderr",
     "output_type": "stream",
     "text": [
      "                                                                                    \r"
     ]
    },
    {
     "name": "stdout",
     "output_type": "stream",
     "text": [
      " 10/112 [=>............................] - ETA: 4s - loss: 1.3028 - accuracy: 0.3625[I 2024-09-06 22:09:13,150] Trial 10 finished with value: 0.3338371813297272 and parameters: {'n_layers': 6, 'activation': 'tanh', 'n_units_l0': 43, 'n_units_l1': 41, 'n_units_l2': 112, 'n_units_l3': 84, 'n_units_l4': 43, 'n_units_l5': 42}. Best is trial 6 with value: 0.3508210301399231.\n"
     ]
    },
    {
     "name": "stderr",
     "output_type": "stream",
     "text": [
      "Best trial: 6. Best value: 0.350821:  20%|██        | 4/20 [01:59<05:13, 19.59s/it]"
     ]
    },
    {
     "name": "stdout",
     "output_type": "stream",
     "text": [
      " 39/112 [=========>....................] - ETA: 2s - loss: 1.3982 - accuracy: 0.3325"
     ]
    },
    {
     "name": "stderr",
     "output_type": "stream",
     "text": [
      "Best trial: 6. Best value: 0.350821:  25%|██▌       | 5/20 [01:59<03:38, 14.55s/it]"
     ]
    },
    {
     "name": "stdout",
     "output_type": "stream",
     "text": [
      " 15/112 [===>..........................] - ETA: 3s - loss: 1.3467 - accuracy: 0.3521"
     ]
    },
    {
     "name": "stderr",
     "output_type": "stream",
     "text": [
      "Best trial: 6. Best value: 0.350821:  25%|██▌       | 5/20 [01:59<03:38, 14.55s/it]"
     ]
    },
    {
     "name": "stdout",
     "output_type": "stream",
     "text": [
      " 16/112 [===>..........................] - ETA: 4s - loss: 1.3511 - accuracy: 0.3418"
     ]
    },
    {
     "name": "stderr",
     "output_type": "stream",
     "text": [
      "Best trial: 6. Best value: 0.350821:  35%|███▌      | 7/20 [02:00<01:10,  5.46s/it]"
     ]
    },
    {
     "name": "stdout",
     "output_type": "stream",
     "text": [
      " 17/112 [===>..........................] - ETA: 4s - loss: 1.3548 - accuracy: 0.3382"
     ]
    },
    {
     "name": "stderr",
     "output_type": "stream",
     "text": [
      "Best trial: 6. Best value: 0.350821:  35%|███▌      | 7/20 [02:00<01:10,  5.46s/it]"
     ]
    },
    {
     "name": "stdout",
     "output_type": "stream",
     "text": [
      " 19/112 [====>.........................] - ETA: 3s - loss: 1.3559 - accuracy: 0.3421"
     ]
    },
    {
     "name": "stderr",
     "output_type": "stream",
     "text": [
      "Best trial: 6. Best value: 0.350821:  35%|███▌      | 7/20 [02:00<01:10,  5.46s/it]"
     ]
    },
    {
     "name": "stdout",
     "output_type": "stream",
     "text": [
      " 21/112 [====>.........................] - ETA: 3s - loss: 1.3429 - accuracy: 0.3408"
     ]
    },
    {
     "name": "stderr",
     "output_type": "stream",
     "text": [
      "                                                                                   \r"
     ]
    },
    {
     "name": "stdout",
     "output_type": "stream",
     "text": [
      " 52/112 [============>.................] - ETA: 2s - loss: 1.4311 - accuracy: 0.3245[I 2024-09-06 22:09:13,892] Trial 4 finished with value: 0.3508210301399231 and parameters: {'n_layers': 7, 'activation': 'sigmoid', 'n_units_l0': 96, 'n_units_l1': 67, 'n_units_l2': 47, 'n_units_l3': 35, 'n_units_l4': 38, 'n_units_l5': 87, 'n_units_l6': 90}. Best is trial 4 with value: 0.3508210301399231.\n"
     ]
    },
    {
     "name": "stderr",
     "output_type": "stream",
     "text": [
      "Best trial: 4. Best value: 0.350821:  40%|████      | 8/20 [02:00<01:05,  5.46s/it]"
     ]
    },
    {
     "name": "stdout",
     "output_type": "stream",
     "text": [
      " 22/112 [====>.........................] - ETA: 5s - loss: 1.3460 - accuracy: 0.3366"
     ]
    },
    {
     "name": "stderr",
     "output_type": "stream",
     "text": [
      "Best trial: 4. Best value: 0.350821:  50%|█████     | 10/20 [02:00<00:19,  1.94s/it]"
     ]
    },
    {
     "name": "stdout",
     "output_type": "stream",
     "text": [
      "  9/112 [=>............................] - ETA: 7s - loss: 1.2912 - accuracy: 0.3542 "
     ]
    },
    {
     "name": "stderr",
     "output_type": "stream",
     "text": [
      "Best trial: 4. Best value: 0.350821:  50%|█████     | 10/20 [02:00<00:19,  1.94s/it]"
     ]
    },
    {
     "name": "stdout",
     "output_type": "stream",
     "text": [
      "112/112 [==============================] - 3s 24ms/step - loss: 1.3796 - accuracy: 0.3442\n",
      " 80/112 [====================>.........] - ETA: 0s - loss: 1.3926 - accuracy: 0.3383"
     ]
    },
    {
     "name": "stderr",
     "output_type": "stream",
     "text": [
      "                                                                                    \r"
     ]
    },
    {
     "name": "stdout",
     "output_type": "stream",
     "text": [
      " 99/112 [=========================>....] - ETA: 0s - loss: 1.3880 - accuracy: 0.3396[I 2024-09-06 22:09:15,349] Trial 0 finished with value: 0.35009253621101377 and parameters: {'n_layers': 10, 'activation': 'tanh', 'n_units_l0': 92, 'n_units_l1': 84, 'n_units_l2': 42, 'n_units_l3': 33, 'n_units_l4': 34, 'n_units_l5': 58, 'n_units_l6': 102, 'n_units_l7': 38, 'n_units_l8': 43, 'n_units_l9': 54}. Best is trial 4 with value: 0.3508210301399231.\n"
     ]
    },
    {
     "name": "stderr",
     "output_type": "stream",
     "text": [
      "Best trial: 4. Best value: 0.350821:  55%|█████▌    | 11/20 [02:01<00:17,  1.94s/it]"
     ]
    },
    {
     "name": "stdout",
     "output_type": "stream",
     "text": [
      "112/112 [==============================] - 2s 20ms/step - loss: 1.3805 - accuracy: 0.3442\n",
      " 94/112 [========================>.....] - ETA: 0s - loss: 1.3897 - accuracy: 0.3378"
     ]
    },
    {
     "name": "stderr",
     "output_type": "stream",
     "text": [
      "Best trial: 4. Best value: 0.350821:  55%|█████▌    | 11/20 [02:01<00:17,  1.94s/it]"
     ]
    },
    {
     "name": "stdout",
     "output_type": "stream",
     "text": [
      "112/112 [==============================] - 3s 22ms/step - loss: 1.3806 - accuracy: 0.3442\n"
     ]
    },
    {
     "name": "stderr",
     "output_type": "stream",
     "text": [
      "Best trial: 4. Best value: 0.350821:  60%|██████    | 12/20 [02:01<00:12,  1.52s/it]"
     ]
    },
    {
     "name": "stdout",
     "output_type": "stream",
     "text": [
      "108/112 [===========================>..] - ETA: 0s - loss: 1.3822 - accuracy: 0.3440"
     ]
    },
    {
     "name": "stderr",
     "output_type": "stream",
     "text": [
      "                                                                                    \r"
     ]
    },
    {
     "name": "stdout",
     "output_type": "stream",
     "text": [
      "112/112 [==============================] - ETA: 0s - loss: 1.3808 - accuracy: 0.3442"
     ]
    },
    {
     "name": "stderr",
     "output_type": "stream",
     "text": [
      "Best trial: 4. Best value: 0.350821:  60%|██████    | 12/20 [02:02<00:12,  1.52s/it]"
     ]
    },
    {
     "name": "stdout",
     "output_type": "stream",
     "text": [
      "[I 2024-09-06 22:09:15,675] Trial 11 finished with value: 0.3487470388412476 and parameters: {'n_layers': 4, 'activation': 'sigmoid', 'n_units_l0': 55, 'n_units_l1': 61, 'n_units_l2': 99, 'n_units_l3': 64}. Best is trial 4 with value: 0.3508210301399231.\n",
      "112/112 [==============================] - 2s 17ms/step - loss: 1.3808 - accuracy: 0.3442\n"
     ]
    },
    {
     "name": "stderr",
     "output_type": "stream",
     "text": [
      "Best trial: 4. Best value: 0.350821:  60%|██████    | 12/20 [02:02<00:12,  1.52s/it]"
     ]
    },
    {
     "name": "stdout",
     "output_type": "stream",
     "text": [
      "[I 2024-09-06 22:09:15,773] Trial 9 finished with value: 0.3508210301399231 and parameters: {'n_layers': 5, 'activation': 'tanh', 'n_units_l0': 114, 'n_units_l1': 32, 'n_units_l2': 85, 'n_units_l3': 95, 'n_units_l4': 54}. Best is trial 4 with value: 0.3508210301399231.\n"
     ]
    },
    {
     "name": "stderr",
     "output_type": "stream",
     "text": [
      "Best trial: 4. Best value: 0.350821:  75%|███████▌  | 15/20 [02:02<00:04,  1.21it/s]"
     ]
    },
    {
     "name": "stdout",
     "output_type": "stream",
     "text": [
      "[I 2024-09-06 22:09:16,068] Trial 5 finished with value: 0.34633798599243165 and parameters: {'n_layers': 10, 'activation': 'sigmoid', 'n_units_l0': 35, 'n_units_l1': 111, 'n_units_l2': 44, 'n_units_l3': 63, 'n_units_l4': 47, 'n_units_l5': 59, 'n_units_l6': 121, 'n_units_l7': 66, 'n_units_l8': 124, 'n_units_l9': 72}. Best is trial 4 with value: 0.3508210301399231.\n",
      "112/112 [==============================] - 1s 6ms/step - loss: 1.3820 - accuracy: 0.3442\n"
     ]
    },
    {
     "name": "stderr",
     "output_type": "stream",
     "text": [
      "Best trial: 12. Best value: 0.350933:  75%|███████▌  | 15/20 [02:04<00:04,  1.21it/s]"
     ]
    },
    {
     "name": "stdout",
     "output_type": "stream",
     "text": [
      "[I 2024-09-06 22:09:18,081] Trial 12 finished with value: 0.35093313455581665 and parameters: {'n_layers': 9, 'activation': 'tanh', 'n_units_l0': 49, 'n_units_l1': 35, 'n_units_l2': 94, 'n_units_l3': 65, 'n_units_l4': 126, 'n_units_l5': 114, 'n_units_l6': 43, 'n_units_l7': 45, 'n_units_l8': 72}. Best is trial 12 with value: 0.35093313455581665.\n"
     ]
    },
    {
     "name": "stderr",
     "output_type": "stream",
     "text": [
      "Best trial: 12. Best value: 0.350933:  80%|████████  | 16/20 [02:04<00:04,  1.05s/it]"
     ]
    },
    {
     "name": "stdout",
     "output_type": "stream",
     "text": [
      "112/112 [==============================] - 0s 3ms/step - loss: 1.3631 - accuracy: 0.3528\n",
      "112/112 [==============================] - 0s 3ms/step - loss: 58.3550 - accuracy: 0.2205\n",
      "112/112 [==============================] - 0s 4ms/step - loss: 16.4215 - accuracy: 0.2561\n",
      "112/112 [==============================] - 1s 5ms/step - loss: 1.3909 - accuracy: 0.3407\n",
      "112/112 [==============================] - 0s 3ms/step - loss: 1.3756 - accuracy: 0.3293\n",
      "112/112 [==============================] - 0s 3ms/step - loss: 11.3716 - accuracy: 0.2267\n",
      "112/112 [==============================] - 0s 3ms/step - loss: 11.4649 - accuracy: 0.3178\n",
      "112/112 [==============================] - 0s 3ms/step - loss: 1.3969 - accuracy: 0.3358\n",
      "112/112 [==============================] - 0s 3ms/step - loss: 1.3709 - accuracy: 0.3582\n",
      "112/112 [==============================] - 0s 4ms/step - loss: 3.7131 - accuracy: 0.3540\n",
      "112/112 [==============================] - 0s 4ms/step - loss: 2.1186 - accuracy: 0.2326\n",
      "112/112 [==============================] - 0s 4ms/step - loss: 1.4028 - accuracy: 0.3161\n",
      "112/112 [==============================] - 0s 3ms/step - loss: 1.9933 - accuracy: 0.3030\n",
      "112/112 [==============================] - 0s 4ms/step - loss: 1.3643 - accuracy: 0.3593\n",
      "112/112 [==============================] - 0s 4ms/step - loss: 1.4608 - accuracy: 0.3590\n",
      "112/112 [==============================] - 0s 4ms/step - loss: 1.5281 - accuracy: 0.3156\n"
     ]
    },
    {
     "name": "stderr",
     "output_type": "stream",
     "text": [
      "Best trial: 12. Best value: 0.350933:  80%|████████  | 16/20 [02:32<00:04,  1.05s/it]"
     ]
    },
    {
     "name": "stdout",
     "output_type": "stream",
     "text": [
      "[I 2024-09-06 22:09:45,844] Trial 18 finished with value: 0.2839562505483627 and parameters: {'n_layers': 3, 'activation': 'relu', 'n_units_l0': 44, 'n_units_l1': 47, 'n_units_l2': 74}. Best is trial 12 with value: 0.35093313455581665.\n"
     ]
    },
    {
     "name": "stderr",
     "output_type": "stream",
     "text": [
      "Best trial: 12. Best value: 0.350933:  85%|████████▌ | 17/20 [02:32<00:22,  7.38s/it]"
     ]
    },
    {
     "name": "stdout",
     "output_type": "stream",
     "text": [
      "112/112 [==============================] - 0s 3ms/step - loss: 1.3669 - accuracy: 0.3593\n",
      "112/112 [==============================] - 0s 3ms/step - loss: 1.3799 - accuracy: 0.3442\n"
     ]
    },
    {
     "name": "stderr",
     "output_type": "stream",
     "text": [
      "Best trial: 12. Best value: 0.350933:  85%|████████▌ | 17/20 [02:33<00:22,  7.38s/it]"
     ]
    },
    {
     "name": "stdout",
     "output_type": "stream",
     "text": [
      "[I 2024-09-06 22:09:47,007] Trial 19 finished with value: 0.30194753110408784 and parameters: {'n_layers': 3, 'activation': 'relu', 'n_units_l0': 117, 'n_units_l1': 65, 'n_units_l2': 99}. Best is trial 12 with value: 0.35093313455581665.\n"
     ]
    },
    {
     "name": "stderr",
     "output_type": "stream",
     "text": [
      "Best trial: 12. Best value: 0.350933:  90%|█████████ | 18/20 [02:33<00:11,  5.81s/it]"
     ]
    },
    {
     "name": "stdout",
     "output_type": "stream",
     "text": [
      "112/112 [==============================] - 0s 2ms/step - loss: 1.3814 - accuracy: 0.3153\n"
     ]
    },
    {
     "name": "stderr",
     "output_type": "stream",
     "text": [
      "Best trial: 12. Best value: 0.350933:  90%|█████████ | 18/20 [02:34<00:11,  5.81s/it]"
     ]
    },
    {
     "name": "stdout",
     "output_type": "stream",
     "text": [
      "[I 2024-09-06 22:09:47,832] Trial 16 finished with value: 0.3429735004901886 and parameters: {'n_layers': 9, 'activation': 'sigmoid', 'n_units_l0': 45, 'n_units_l1': 73, 'n_units_l2': 72, 'n_units_l3': 53, 'n_units_l4': 39, 'n_units_l5': 62, 'n_units_l6': 39, 'n_units_l7': 48, 'n_units_l8': 92}. Best is trial 12 with value: 0.35093313455581665.\n"
     ]
    },
    {
     "name": "stderr",
     "output_type": "stream",
     "text": [
      "Best trial: 12. Best value: 0.350933:  95%|█████████▌| 19/20 [02:34<00:04,  4.48s/it]"
     ]
    },
    {
     "name": "stdout",
     "output_type": "stream",
     "text": [
      "112/112 [==============================] - 0s 1ms/step - loss: 1.3860 - accuracy: 0.3332\n"
     ]
    },
    {
     "name": "stderr",
     "output_type": "stream",
     "text": [
      "Best trial: 12. Best value: 0.350933:  95%|█████████▌| 19/20 [02:37<00:04,  4.48s/it]"
     ]
    },
    {
     "name": "stdout",
     "output_type": "stream",
     "text": [
      "[I 2024-09-06 22:09:51,132] Trial 17 finished with value: 0.3370324671268463 and parameters: {'n_layers': 9, 'activation': 'relu', 'n_units_l0': 109, 'n_units_l1': 72, 'n_units_l2': 38, 'n_units_l3': 90, 'n_units_l4': 49, 'n_units_l5': 35, 'n_units_l6': 113, 'n_units_l7': 61, 'n_units_l8': 33}. Best is trial 12 with value: 0.35093313455581665.\n"
     ]
    },
    {
     "name": "stderr",
     "output_type": "stream",
     "text": [
      "Best trial: 12. Best value: 0.350933: 100%|██████████| 20/20 [02:37<00:00,  7.87s/it]\n"
     ]
    },
    {
     "ename": "NameError",
     "evalue": "name 'init_regmodel' is not defined",
     "output_type": "error",
     "traceback": [
      "\u001b[1;31m---------------------------------------------------------------------------\u001b[0m",
      "\u001b[1;31mNameError\u001b[0m                                 Traceback (most recent call last)",
      "Cell \u001b[1;32mIn[5], line 61\u001b[0m\n\u001b[0;32m     57\u001b[0m study\u001b[38;5;241m.\u001b[39moptimize(\u001b[38;5;28;01mlambda\u001b[39;00m trial: clas_objective(trial,xtrain,ytrain),n_trials\u001b[38;5;241m=\u001b[39m\u001b[38;5;241m20\u001b[39m,n_jobs\u001b[38;5;241m=\u001b[39m\u001b[38;5;241m-\u001b[39m\u001b[38;5;241m1\u001b[39m,show_progress_bar\u001b[38;5;241m=\u001b[39m\u001b[38;5;28;01mTrue\u001b[39;00m)\n\u001b[0;32m     59\u001b[0m joblib\u001b[38;5;241m.\u001b[39mdump(study,thismodelpath\u001b[38;5;241m.\u001b[39mjoinpath(\u001b[38;5;124mf\u001b[39m\u001b[38;5;124m'\u001b[39m\u001b[38;5;124mstudy_\u001b[39m\u001b[38;5;132;01m{\u001b[39;00mstudy\u001b[38;5;241m.\u001b[39mstudy_name\u001b[38;5;132;01m}\u001b[39;00m\u001b[38;5;124m.pkl\u001b[39m\u001b[38;5;124m'\u001b[39m)\u001b[38;5;241m.\u001b[39mas_posix())\n\u001b[1;32m---> 61\u001b[0m model \u001b[38;5;241m=\u001b[39m \u001b[43minit_regmodel\u001b[49m(study\u001b[38;5;241m.\u001b[39mbest_trial)\n\u001b[0;32m     62\u001b[0m model\u001b[38;5;241m.\u001b[39mfit(tf\u001b[38;5;241m.\u001b[39mconvert_to_tensor(xtrain),tf\u001b[38;5;241m.\u001b[39mconvert_to_tensor(ytrain),validation_split\u001b[38;5;241m=\u001b[39m\u001b[38;5;241m0.1\u001b[39m,epochs\u001b[38;5;241m=\u001b[39m\u001b[38;5;241m10\u001b[39m, batch_size\u001b[38;5;241m=\u001b[39m\u001b[38;5;241m128\u001b[39m,verbose\u001b[38;5;241m=\u001b[39m\u001b[38;5;241m0\u001b[39m)\n\u001b[0;32m     63\u001b[0m model\u001b[38;5;241m.\u001b[39msave(thismodelpath\u001b[38;5;241m.\u001b[39mjoinpath(\u001b[38;5;124mf\u001b[39m\u001b[38;5;124m'\u001b[39m\u001b[38;5;124mfmodel_clas.h5\u001b[39m\u001b[38;5;124m'\u001b[39m)\u001b[38;5;241m.\u001b[39mas_posix())\n",
      "\u001b[1;31mNameError\u001b[0m: name 'init_regmodel' is not defined"
     ]
    }
   ],
   "source": [
    "# ytrain=pd.Series(tf.keras.utils.to_categorical(datadf['Actual Rating']))\n",
    "xtrain,xtest,ytrain,ytest=train_test_split(datadf.drop(['Actual Rating'],axis=1),datadf['Actual Rating'],test_size=0.1,random_state=randomstate,shuffle=True)\n",
    "xtrain,xtest,ytrain,ytest=xtrain.reset_index(drop=True),xtest.reset_index(drop=True),ytrain.reset_index(drop=True),ytest.reset_index(drop=True)\n",
    "\n",
    "studyname='prediction_classification'\n",
    "thismodelpath=models_path.joinpath(f'{studyname}')\n",
    "try: \n",
    "    thismodelpath.mkdir(exist_ok=False)\n",
    "except FileExistsError:\n",
    "    print('Directory already exists')\n",
    "\n",
    "def init_clasmodel(trial):\n",
    "    # model definition\n",
    "    nlayers=trial.suggest_int('n_layers',1,10)\n",
    "    model=tf.keras.Sequential()\n",
    "    activation=trial.suggest_categorical('activation',['relu','tanh','sigmoid'])\n",
    "    inputshape=xtrain.shape[1]\n",
    "    model.add(tf.keras.layers.Dense(16, input_shape=(inputshape,),activation=activation))\n",
    "    for i in range(nlayers):\n",
    "        numhidden=trial.suggest_int(f'n_units_l{i}',32,128,log=True)\n",
    "        model.add(tf.keras.layers.Dense(units=numhidden,activation=activation,name=f'layer{i}'))\n",
    "    model.add(tf.keras.layers.Dense(units=5,activation='softmax'))\n",
    "    model.compile(optimizer='adam', loss='categorical_crossentropy', metrics=['accuracy'])\n",
    "    return model\n",
    "\n",
    "def clas_objective(trial:Trial,xtrain:pd.DataFrame,ytrain:pd.Series)->float:\n",
    "    kf = KFold(n_splits=5, shuffle=True, random_state=randomstate)\n",
    "    ytrain=datadf['Actual Rating'].apply(lambda x: x-1)\n",
    "    model=init_clasmodel(trial)\n",
    "    # training and evaluation\n",
    "    acctest=[]\n",
    "    for train,test in kf.split(xtrain):\n",
    "        trdata=tf.convert_to_tensor(xtrain.loc[train])\n",
    "        trlabel=tf.convert_to_tensor(tf.keras.utils.to_categorical(ytrain.loc[train],num_classes=5))\n",
    "        evdata=tf.convert_to_tensor(xtrain.loc[test])\n",
    "        evlabel=tf.convert_to_tensor(tf.keras.utils.to_categorical(ytrain.loc[test],num_classes=5))\n",
    "\n",
    "\n",
    "\n",
    "\n",
    "        model.fit(trdata,trlabel,validation_split=0.1,epochs=10, batch_size=128,verbose=0) #more verbosity seems to crash in execution\n",
    "        \n",
    "        loss,acc=model.evaluate(evdata, evlabel)\n",
    "        # predtrain=tmodel.predict(evdata)\n",
    "        # mse=tf.keras.losses.MSE(evlabel, predtrain)\n",
    "        acctest.append(acc)\n",
    "    \n",
    "    return np.mean(acctest)\n",
    "\n",
    "storage=thismodelpath.joinpath(f\"{studyname}.db\")\n",
    "if storage.exists():\n",
    "    storage.unlink()\n",
    "else:\n",
    "    print(\"No sqlite db found\")\n",
    "\n",
    "study=create_study(study_name=studyname,direction='maximize',storage=f'sqlite:///{storage.as_posix()}',load_if_exists=False)\n",
    "study.optimize(lambda trial: clas_objective(trial,xtrain,ytrain),n_trials=20,n_jobs=-1,show_progress_bar=True)\n",
    "\n",
    "joblib.dump(study,thismodelpath.joinpath(f'study_{study.study_name}.pkl').as_posix())\n",
    "\n",
    "model = init_clasmodel(study.best_trial)\n",
    "ytrain=datadf['Actual Rating'].apply(lambda x: x-1)\n",
    "model.fit(tf.convert_to_tensor(xtrain),tf.convert_to_tensor(tf.keras.utils.to_categorical(ytrain,num_classes=5)),validation_split=0.1,epochs=10, batch_size=128,verbose=0)\n",
    "model.save(thismodelpath.joinpath(f'fmodel_clas.h5').as_posix())\n",
    "model.save(thismodelpath.joinpath(f'fmodel_clas.h5').as_posix())"
   ]
  },
  {
   "cell_type": "code",
   "execution_count": 8,
   "metadata": {},
   "outputs": [],
   "source": [
    "# model = init_clasmodel(study.best_trial)\n",
    "# ytrain=datadf['Actual Rating'].apply(lambda x: x-1)\n",
    "# model.fit(tf.convert_to_tensor(xtrain),tf.convert_to_tensor(tf.keras.utils.to_categorical(ytrain,num_classes=5)),validation_split=0.1,epochs=10, batch_size=128,verbose=0)\n",
    "# model.save(thismodelpath.joinpath(f'fmodel_clas.h5').as_posix())\n",
    "# model.save(thismodelpath.joinpath(f'fmodel_clas.h5').as_posix())"
   ]
  },
  {
   "cell_type": "code",
   "execution_count": 14,
   "metadata": {},
   "outputs": [
    {
     "data": {
      "text/plain": [
       "array([[0., 0., 0., 0., 0., 1.],\n",
       "       [0., 0., 0., 0., 1., 0.],\n",
       "       [0., 0., 0., 0., 1., 0.],\n",
       "       ...,\n",
       "       [0., 0., 0., 0., 0., 1.],\n",
       "       [0., 0., 0., 0., 1., 0.],\n",
       "       [0., 0., 1., 0., 0., 0.]], dtype=float32)"
      ]
     },
     "execution_count": 14,
     "metadata": {},
     "output_type": "execute_result"
    }
   ],
   "source": [
    "tf.keras.utils.to_categorical(ytrain)"
   ]
  },
  {
   "cell_type": "code",
   "execution_count": 16,
   "metadata": {},
   "outputs": [
    {
     "data": {
      "text/plain": [
       "array([[0., 0., 0., 0., 0., 1.],\n",
       "       [0., 0., 0., 0., 1., 0.],\n",
       "       [0., 0., 0., 0., 0., 1.],\n",
       "       ...,\n",
       "       [0., 0., 0., 0., 0., 1.],\n",
       "       [0., 0., 0., 1., 0., 0.],\n",
       "       [0., 0., 0., 0., 0., 1.]], dtype=float32)"
      ]
     },
     "execution_count": 16,
     "metadata": {},
     "output_type": "execute_result"
    }
   ],
   "source": [
    "tf.keras.utils.to_categorical(datadf['Actual Rating'])"
   ]
  },
  {
   "cell_type": "code",
   "execution_count": 43,
   "metadata": {},
   "outputs": [
    {
     "data": {
      "text/plain": [
       "array([[0., 0., 0., 0., 1.],\n",
       "       [0., 0., 0., 1., 0.],\n",
       "       [0., 0., 0., 0., 1.],\n",
       "       ...,\n",
       "       [0., 0., 0., 0., 1.],\n",
       "       [0., 0., 1., 0., 0.],\n",
       "       [0., 0., 0., 0., 1.]], dtype=float32)"
      ]
     },
     "execution_count": 43,
     "metadata": {},
     "output_type": "execute_result"
    }
   ],
   "source": [
    "tf.keras.utils.to_categorical(datadf['Actual Rating'],num_classes=5)"
   ]
  },
  {
   "cell_type": "code",
   "execution_count": 42,
   "metadata": {},
   "outputs": [],
   "source": [
    "datadf['Actual Rating']=datadf['Actual Rating'].apply(lambda x:x-1)"
   ]
  },
  {
   "cell_type": "code",
   "execution_count": 46,
   "metadata": {},
   "outputs": [
    {
     "data": {
      "text/plain": [
       "<tf.Tensor: shape=(19824, 5), dtype=float32, numpy=\n",
       "array([[0., 0., 0., 0., 1.],\n",
       "       [0., 0., 0., 1., 0.],\n",
       "       [0., 0., 0., 0., 1.],\n",
       "       ...,\n",
       "       [0., 0., 0., 0., 1.],\n",
       "       [0., 0., 1., 0., 0.],\n",
       "       [0., 0., 0., 0., 1.]], dtype=float32)>"
      ]
     },
     "execution_count": 46,
     "metadata": {},
     "output_type": "execute_result"
    }
   ],
   "source": [
    "tf.convert_to_tensor(tf.keras.utils.to_categorical(datadf['Actual Rating'],num_classes=5))"
   ]
  },
  {
   "cell_type": "code",
   "execution_count": 12,
   "metadata": {},
   "outputs": [],
   "source": [
    "import joblib\n",
    "import pandas as pd\n",
    "import tensorflow as tf"
   ]
  },
  {
   "cell_type": "code",
   "execution_count": 14,
   "metadata": {},
   "outputs": [
    {
     "name": "stderr",
     "output_type": "stream",
     "text": [
      "c:\\Users\\lekle\\anaconda3\\envs\\tf-env\\lib\\site-packages\\sklearn\\base.py:347: InconsistentVersionWarning: Trying to unpickle estimator SVR from version 1.4.2 when using version 1.3.0. This might lead to breaking code or invalid results. Use at your own risk. For more info please refer to:\n",
      "https://scikit-learn.org/stable/model_persistence.html#security-maintainability-limitations\n",
      "  warnings.warn(\n",
      "c:\\Users\\lekle\\anaconda3\\envs\\tf-env\\lib\\site-packages\\sklearn\\base.py:347: InconsistentVersionWarning: Trying to unpickle estimator GridSearchCV from version 1.4.2 when using version 1.3.0. This might lead to breaking code or invalid results. Use at your own risk. For more info please refer to:\n",
      "https://scikit-learn.org/stable/model_persistence.html#security-maintainability-limitations\n",
      "  warnings.warn(\n",
      "c:\\Users\\lekle\\anaconda3\\envs\\tf-env\\lib\\site-packages\\sklearn\\base.py:347: InconsistentVersionWarning: Trying to unpickle estimator DecisionTreeRegressor from version 1.4.2 when using version 1.3.0. This might lead to breaking code or invalid results. Use at your own risk. For more info please refer to:\n",
      "https://scikit-learn.org/stable/model_persistence.html#security-maintainability-limitations\n",
      "  warnings.warn(\n",
      "c:\\Users\\lekle\\anaconda3\\envs\\tf-env\\lib\\site-packages\\sklearn\\base.py:347: InconsistentVersionWarning: Trying to unpickle estimator SVC from version 1.4.2 when using version 1.3.0. This might lead to breaking code or invalid results. Use at your own risk. For more info please refer to:\n",
      "https://scikit-learn.org/stable/model_persistence.html#security-maintainability-limitations\n",
      "  warnings.warn(\n",
      "c:\\Users\\lekle\\anaconda3\\envs\\tf-env\\lib\\site-packages\\sklearn\\base.py:347: InconsistentVersionWarning: Trying to unpickle estimator DecisionTreeClassifier from version 1.4.2 when using version 1.3.0. This might lead to breaking code or invalid results. Use at your own risk. For more info please refer to:\n",
      "https://scikit-learn.org/stable/model_persistence.html#security-maintainability-limitations\n",
      "  warnings.warn(\n"
     ]
    }
   ],
   "source": [
    "predictionmodelpath=models_path.joinpath('prediction_models')\n",
    "\n",
    "regsvmmodel=joblib.load(predictionmodelpath.joinpath('regsvmmodel.pkl').as_posix())\n",
    "regdtmodel=joblib.load(predictionmodelpath.joinpath('regdtmodel.pkl').as_posix())\n",
    "classvmmodel=joblib.load(predictionmodelpath.joinpath('classsvmmodel.pkl').as_posix())\n",
    "clasdtmodel=joblib.load(predictionmodelpath.joinpath('clasdtmodel.pkl').as_posix())\n",
    "regmodel = tf.keras.models.load_model(models_path.joinpath(f'prediction_regression/fmodel_reg.h5').as_posix())\n",
    "classmodel=tf.keras.models.load_model(models_path.joinpath(f'prediction_classification/fmodel_clas.h5').as_posix())"
   ]
  },
  {
   "cell_type": "code",
   "execution_count": 15,
   "metadata": {},
   "outputs": [
    {
     "ename": "KeyError",
     "evalue": "\"['title_x', 'book_id_x', 'book_id_mapping', 'book_id_y', 'title_y', 'image_url', 'url', 'description', 'genre', 'num_genres', 'name'] not found in axis\"",
     "output_type": "error",
     "traceback": [
      "\u001b[1;31m---------------------------------------------------------------------------\u001b[0m",
      "\u001b[1;31mKeyError\u001b[0m                                  Traceback (most recent call last)",
      "Cell \u001b[1;32mIn[15], line 2\u001b[0m\n\u001b[0;32m      1\u001b[0m dropcols\u001b[38;5;241m=\u001b[39m[\u001b[38;5;124m'\u001b[39m\u001b[38;5;124mtitle_x\u001b[39m\u001b[38;5;124m'\u001b[39m,\u001b[38;5;124m'\u001b[39m\u001b[38;5;124mbook_id_x\u001b[39m\u001b[38;5;124m'\u001b[39m,\u001b[38;5;124m'\u001b[39m\u001b[38;5;124mbook_id_mapping\u001b[39m\u001b[38;5;124m'\u001b[39m,\u001b[38;5;124m'\u001b[39m\u001b[38;5;124mbook_id_y\u001b[39m\u001b[38;5;124m'\u001b[39m, \u001b[38;5;124m'\u001b[39m\u001b[38;5;124mtitle_y\u001b[39m\u001b[38;5;124m'\u001b[39m, \u001b[38;5;124m'\u001b[39m\u001b[38;5;124mimage_url\u001b[39m\u001b[38;5;124m'\u001b[39m, \u001b[38;5;124m'\u001b[39m\u001b[38;5;124murl\u001b[39m\u001b[38;5;124m'\u001b[39m,\u001b[38;5;124m'\u001b[39m\u001b[38;5;124mdescription\u001b[39m\u001b[38;5;124m'\u001b[39m, \u001b[38;5;124m'\u001b[39m\u001b[38;5;124mgenre\u001b[39m\u001b[38;5;124m'\u001b[39m,\u001b[38;5;124m'\u001b[39m\u001b[38;5;124mnum_genres\u001b[39m\u001b[38;5;124m'\u001b[39m,\u001b[38;5;124m'\u001b[39m\u001b[38;5;124mname\u001b[39m\u001b[38;5;124m'\u001b[39m] \u001b[38;5;66;03m#drop author name too, as binarization too big and few duplicates\u001b[39;00m\n\u001b[1;32m----> 2\u001b[0m datadf\u001b[38;5;241m=\u001b[39m\u001b[43mdatadf\u001b[49m\u001b[38;5;241;43m.\u001b[39;49m\u001b[43mdrop\u001b[49m\u001b[43m(\u001b[49m\u001b[43mdropcols\u001b[49m\u001b[43m,\u001b[49m\u001b[43maxis\u001b[49m\u001b[38;5;241;43m=\u001b[39;49m\u001b[38;5;241;43m1\u001b[39;49m\u001b[43m)\u001b[49m\n\u001b[0;32m      3\u001b[0m datadf\u001b[38;5;241m.\u001b[39mcolumns\n",
      "File \u001b[1;32mc:\\Users\\lekle\\anaconda3\\envs\\tf-env\\lib\\site-packages\\pandas\\core\\frame.py:5258\u001b[0m, in \u001b[0;36mDataFrame.drop\u001b[1;34m(self, labels, axis, index, columns, level, inplace, errors)\u001b[0m\n\u001b[0;32m   5110\u001b[0m \u001b[38;5;28;01mdef\u001b[39;00m \u001b[38;5;21mdrop\u001b[39m(\n\u001b[0;32m   5111\u001b[0m     \u001b[38;5;28mself\u001b[39m,\n\u001b[0;32m   5112\u001b[0m     labels: IndexLabel \u001b[38;5;241m=\u001b[39m \u001b[38;5;28;01mNone\u001b[39;00m,\n\u001b[1;32m   (...)\u001b[0m\n\u001b[0;32m   5119\u001b[0m     errors: IgnoreRaise \u001b[38;5;241m=\u001b[39m \u001b[38;5;124m\"\u001b[39m\u001b[38;5;124mraise\u001b[39m\u001b[38;5;124m\"\u001b[39m,\n\u001b[0;32m   5120\u001b[0m ) \u001b[38;5;241m-\u001b[39m\u001b[38;5;241m>\u001b[39m DataFrame \u001b[38;5;241m|\u001b[39m \u001b[38;5;28;01mNone\u001b[39;00m:\n\u001b[0;32m   5121\u001b[0m \u001b[38;5;250m    \u001b[39m\u001b[38;5;124;03m\"\"\"\u001b[39;00m\n\u001b[0;32m   5122\u001b[0m \u001b[38;5;124;03m    Drop specified labels from rows or columns.\u001b[39;00m\n\u001b[0;32m   5123\u001b[0m \n\u001b[1;32m   (...)\u001b[0m\n\u001b[0;32m   5256\u001b[0m \u001b[38;5;124;03m            weight  1.0     0.8\u001b[39;00m\n\u001b[0;32m   5257\u001b[0m \u001b[38;5;124;03m    \"\"\"\u001b[39;00m\n\u001b[1;32m-> 5258\u001b[0m     \u001b[38;5;28;01mreturn\u001b[39;00m \u001b[38;5;28;43msuper\u001b[39;49m\u001b[43m(\u001b[49m\u001b[43m)\u001b[49m\u001b[38;5;241;43m.\u001b[39;49m\u001b[43mdrop\u001b[49m\u001b[43m(\u001b[49m\n\u001b[0;32m   5259\u001b[0m \u001b[43m        \u001b[49m\u001b[43mlabels\u001b[49m\u001b[38;5;241;43m=\u001b[39;49m\u001b[43mlabels\u001b[49m\u001b[43m,\u001b[49m\n\u001b[0;32m   5260\u001b[0m \u001b[43m        \u001b[49m\u001b[43maxis\u001b[49m\u001b[38;5;241;43m=\u001b[39;49m\u001b[43maxis\u001b[49m\u001b[43m,\u001b[49m\n\u001b[0;32m   5261\u001b[0m \u001b[43m        \u001b[49m\u001b[43mindex\u001b[49m\u001b[38;5;241;43m=\u001b[39;49m\u001b[43mindex\u001b[49m\u001b[43m,\u001b[49m\n\u001b[0;32m   5262\u001b[0m \u001b[43m        \u001b[49m\u001b[43mcolumns\u001b[49m\u001b[38;5;241;43m=\u001b[39;49m\u001b[43mcolumns\u001b[49m\u001b[43m,\u001b[49m\n\u001b[0;32m   5263\u001b[0m \u001b[43m        \u001b[49m\u001b[43mlevel\u001b[49m\u001b[38;5;241;43m=\u001b[39;49m\u001b[43mlevel\u001b[49m\u001b[43m,\u001b[49m\n\u001b[0;32m   5264\u001b[0m \u001b[43m        \u001b[49m\u001b[43minplace\u001b[49m\u001b[38;5;241;43m=\u001b[39;49m\u001b[43minplace\u001b[49m\u001b[43m,\u001b[49m\n\u001b[0;32m   5265\u001b[0m \u001b[43m        \u001b[49m\u001b[43merrors\u001b[49m\u001b[38;5;241;43m=\u001b[39;49m\u001b[43merrors\u001b[49m\u001b[43m,\u001b[49m\n\u001b[0;32m   5266\u001b[0m \u001b[43m    \u001b[49m\u001b[43m)\u001b[49m\n",
      "File \u001b[1;32mc:\\Users\\lekle\\anaconda3\\envs\\tf-env\\lib\\site-packages\\pandas\\core\\generic.py:4549\u001b[0m, in \u001b[0;36mNDFrame.drop\u001b[1;34m(self, labels, axis, index, columns, level, inplace, errors)\u001b[0m\n\u001b[0;32m   4547\u001b[0m \u001b[38;5;28;01mfor\u001b[39;00m axis, labels \u001b[38;5;129;01min\u001b[39;00m axes\u001b[38;5;241m.\u001b[39mitems():\n\u001b[0;32m   4548\u001b[0m     \u001b[38;5;28;01mif\u001b[39;00m labels \u001b[38;5;129;01mis\u001b[39;00m \u001b[38;5;129;01mnot\u001b[39;00m \u001b[38;5;28;01mNone\u001b[39;00m:\n\u001b[1;32m-> 4549\u001b[0m         obj \u001b[38;5;241m=\u001b[39m \u001b[43mobj\u001b[49m\u001b[38;5;241;43m.\u001b[39;49m\u001b[43m_drop_axis\u001b[49m\u001b[43m(\u001b[49m\u001b[43mlabels\u001b[49m\u001b[43m,\u001b[49m\u001b[43m \u001b[49m\u001b[43maxis\u001b[49m\u001b[43m,\u001b[49m\u001b[43m \u001b[49m\u001b[43mlevel\u001b[49m\u001b[38;5;241;43m=\u001b[39;49m\u001b[43mlevel\u001b[49m\u001b[43m,\u001b[49m\u001b[43m \u001b[49m\u001b[43merrors\u001b[49m\u001b[38;5;241;43m=\u001b[39;49m\u001b[43merrors\u001b[49m\u001b[43m)\u001b[49m\n\u001b[0;32m   4551\u001b[0m \u001b[38;5;28;01mif\u001b[39;00m inplace:\n\u001b[0;32m   4552\u001b[0m     \u001b[38;5;28mself\u001b[39m\u001b[38;5;241m.\u001b[39m_update_inplace(obj)\n",
      "File \u001b[1;32mc:\\Users\\lekle\\anaconda3\\envs\\tf-env\\lib\\site-packages\\pandas\\core\\generic.py:4591\u001b[0m, in \u001b[0;36mNDFrame._drop_axis\u001b[1;34m(self, labels, axis, level, errors, only_slice)\u001b[0m\n\u001b[0;32m   4589\u001b[0m         new_axis \u001b[38;5;241m=\u001b[39m axis\u001b[38;5;241m.\u001b[39mdrop(labels, level\u001b[38;5;241m=\u001b[39mlevel, errors\u001b[38;5;241m=\u001b[39merrors)\n\u001b[0;32m   4590\u001b[0m     \u001b[38;5;28;01melse\u001b[39;00m:\n\u001b[1;32m-> 4591\u001b[0m         new_axis \u001b[38;5;241m=\u001b[39m \u001b[43maxis\u001b[49m\u001b[38;5;241;43m.\u001b[39;49m\u001b[43mdrop\u001b[49m\u001b[43m(\u001b[49m\u001b[43mlabels\u001b[49m\u001b[43m,\u001b[49m\u001b[43m \u001b[49m\u001b[43merrors\u001b[49m\u001b[38;5;241;43m=\u001b[39;49m\u001b[43merrors\u001b[49m\u001b[43m)\u001b[49m\n\u001b[0;32m   4592\u001b[0m     indexer \u001b[38;5;241m=\u001b[39m axis\u001b[38;5;241m.\u001b[39mget_indexer(new_axis)\n\u001b[0;32m   4594\u001b[0m \u001b[38;5;66;03m# Case for non-unique axis\u001b[39;00m\n\u001b[0;32m   4595\u001b[0m \u001b[38;5;28;01melse\u001b[39;00m:\n",
      "File \u001b[1;32mc:\\Users\\lekle\\anaconda3\\envs\\tf-env\\lib\\site-packages\\pandas\\core\\indexes\\base.py:6699\u001b[0m, in \u001b[0;36mIndex.drop\u001b[1;34m(self, labels, errors)\u001b[0m\n\u001b[0;32m   6697\u001b[0m \u001b[38;5;28;01mif\u001b[39;00m mask\u001b[38;5;241m.\u001b[39many():\n\u001b[0;32m   6698\u001b[0m     \u001b[38;5;28;01mif\u001b[39;00m errors \u001b[38;5;241m!=\u001b[39m \u001b[38;5;124m\"\u001b[39m\u001b[38;5;124mignore\u001b[39m\u001b[38;5;124m\"\u001b[39m:\n\u001b[1;32m-> 6699\u001b[0m         \u001b[38;5;28;01mraise\u001b[39;00m \u001b[38;5;167;01mKeyError\u001b[39;00m(\u001b[38;5;124mf\u001b[39m\u001b[38;5;124m\"\u001b[39m\u001b[38;5;132;01m{\u001b[39;00m\u001b[38;5;28mlist\u001b[39m(labels[mask])\u001b[38;5;132;01m}\u001b[39;00m\u001b[38;5;124m not found in axis\u001b[39m\u001b[38;5;124m\"\u001b[39m)\n\u001b[0;32m   6700\u001b[0m     indexer \u001b[38;5;241m=\u001b[39m indexer[\u001b[38;5;241m~\u001b[39mmask]\n\u001b[0;32m   6701\u001b[0m \u001b[38;5;28;01mreturn\u001b[39;00m \u001b[38;5;28mself\u001b[39m\u001b[38;5;241m.\u001b[39mdelete(indexer)\n",
      "\u001b[1;31mKeyError\u001b[0m: \"['title_x', 'book_id_x', 'book_id_mapping', 'book_id_y', 'title_y', 'image_url', 'url', 'description', 'genre', 'num_genres', 'name'] not found in axis\""
     ]
    }
   ],
   "source": [
    "dropcols=['title_x','book_id_x','book_id_mapping','book_id_y', 'title_y', 'image_url', 'url','description', 'genre','num_genres','name'] #drop author name too, as binarization too big and few duplicates\n",
    "datadf=datadf.drop(dropcols,axis=1)\n",
    "datadf.columns"
   ]
  },
  {
   "cell_type": "code",
   "execution_count": 16,
   "metadata": {},
   "outputs": [],
   "source": [
    "x=datadf[['user_id_mapping', 'num_pages',\n",
    "       'ratings_count', 'biography', 'children', 'comics', 'crime', 'fantasy',\n",
    "       'fiction', 'graphic', 'historicalfiction', 'history', 'mystery',\n",
    "       'nonfiction', 'paranormal', 'poetry', 'romance', 'thriller',\n",
    "       'youngadult', 'latentdirichletallocation0',\n",
    "       'latentdirichletallocation1', 'latentdirichletallocation2']]\n",
    "y=datadf[['Predicted Rating', 'Actual Rating',]]"
   ]
  },
  {
   "cell_type": "code",
   "execution_count": 51,
   "metadata": {},
   "outputs": [
    {
     "name": "stderr",
     "output_type": "stream",
     "text": [
      "C:\\Users\\lekle\\AppData\\Local\\Temp\\ipykernel_28820\\2800286204.py:1: SettingWithCopyWarning: \n",
      "A value is trying to be set on a copy of a slice from a DataFrame.\n",
      "Try using .loc[row_indexer,col_indexer] = value instead\n",
      "\n",
      "See the caveats in the documentation: https://pandas.pydata.org/pandas-docs/stable/user_guide/indexing.html#returning-a-view-versus-a-copy\n",
      "  y['regsvm']=regsvmmodel.best_estimator_.predict(x)\n",
      "C:\\Users\\lekle\\AppData\\Local\\Temp\\ipykernel_28820\\2800286204.py:2: SettingWithCopyWarning: \n",
      "A value is trying to be set on a copy of a slice from a DataFrame.\n",
      "Try using .loc[row_indexer,col_indexer] = value instead\n",
      "\n",
      "See the caveats in the documentation: https://pandas.pydata.org/pandas-docs/stable/user_guide/indexing.html#returning-a-view-versus-a-copy\n",
      "  y['regdt']=regdtmodel.best_estimator_.predict(x)\n",
      "C:\\Users\\lekle\\AppData\\Local\\Temp\\ipykernel_28820\\2800286204.py:3: SettingWithCopyWarning: \n",
      "A value is trying to be set on a copy of a slice from a DataFrame.\n",
      "Try using .loc[row_indexer,col_indexer] = value instead\n",
      "\n",
      "See the caveats in the documentation: https://pandas.pydata.org/pandas-docs/stable/user_guide/indexing.html#returning-a-view-versus-a-copy\n",
      "  y['classvm']=classvmmodel.best_estimator_.predict(x)\n",
      "C:\\Users\\lekle\\AppData\\Local\\Temp\\ipykernel_28820\\2800286204.py:4: SettingWithCopyWarning: \n",
      "A value is trying to be set on a copy of a slice from a DataFrame.\n",
      "Try using .loc[row_indexer,col_indexer] = value instead\n",
      "\n",
      "See the caveats in the documentation: https://pandas.pydata.org/pandas-docs/stable/user_guide/indexing.html#returning-a-view-versus-a-copy\n",
      "  y['clasdt']=clasdtmodel.best_estimator_.predict(x)\n"
     ]
    }
   ],
   "source": [
    "y['regsvm']=regsvmmodel.best_estimator_.predict(x)\n",
    "y['regdt']=regdtmodel.best_estimator_.predict(x)\n",
    "y['classvm']=classvmmodel.best_estimator_.predict(x)\n",
    "y['clasdt']=clasdtmodel.best_estimator_.predict(x)"
   ]
  },
  {
   "cell_type": "code",
   "execution_count": 45,
   "metadata": {},
   "outputs": [
    {
     "name": "stdout",
     "output_type": "stream",
     "text": [
      "620/620 [==============================] - 1s 994us/step\n"
     ]
    },
    {
     "name": "stderr",
     "output_type": "stream",
     "text": [
      "C:\\Users\\lekle\\AppData\\Local\\Temp\\ipykernel_28820\\65524545.py:1: SettingWithCopyWarning: \n",
      "A value is trying to be set on a copy of a slice from a DataFrame.\n",
      "Try using .loc[row_indexer,col_indexer] = value instead\n",
      "\n",
      "See the caveats in the documentation: https://pandas.pydata.org/pandas-docs/stable/user_guide/indexing.html#returning-a-view-versus-a-copy\n",
      "  y['regmodel']=regmodel.predict(tf.convert_to_tensor(x))\n"
     ]
    }
   ],
   "source": [
    "y['regmodel']=regmodel.predict(tf.convert_to_tensor(x))"
   ]
  },
  {
   "cell_type": "code",
   "execution_count": 43,
   "metadata": {},
   "outputs": [
    {
     "name": "stdout",
     "output_type": "stream",
     "text": [
      "620/620 [==============================] - 1s 1ms/step\n"
     ]
    },
    {
     "name": "stderr",
     "output_type": "stream",
     "text": [
      "C:\\Users\\lekle\\AppData\\Local\\Temp\\ipykernel_28820\\2183601394.py:8: SettingWithCopyWarning: \n",
      "A value is trying to be set on a copy of a slice from a DataFrame.\n",
      "Try using .loc[row_indexer,col_indexer] = value instead\n",
      "\n",
      "See the caveats in the documentation: https://pandas.pydata.org/pandas-docs/stable/user_guide/indexing.html#returning-a-view-versus-a-copy\n",
      "  y['clasmodel']=get_class_pred(x)\n"
     ]
    }
   ],
   "source": [
    "def get_class_pred(x):\n",
    "    pred=classmodel.predict(tf.convert_to_tensor(x))\n",
    "    classpred=[]\n",
    "    for x in pred:\n",
    "        classpred.append(np.argmax(x)+1)\n",
    "    return classpred\n",
    "\n",
    "y['clasmodel']=get_class_pred(x)\n",
    "\n"
   ]
  },
  {
   "cell_type": "code",
   "execution_count": 49,
   "metadata": {},
   "outputs": [],
   "source": [
    "from sklearn.metrics import mean_squared_error"
   ]
  },
  {
   "cell_type": "code",
   "execution_count": 46,
   "metadata": {},
   "outputs": [
    {
     "data": {
      "text/html": [
       "<div>\n",
       "<style scoped>\n",
       "    .dataframe tbody tr th:only-of-type {\n",
       "        vertical-align: middle;\n",
       "    }\n",
       "\n",
       "    .dataframe tbody tr th {\n",
       "        vertical-align: top;\n",
       "    }\n",
       "\n",
       "    .dataframe thead th {\n",
       "        text-align: right;\n",
       "    }\n",
       "</style>\n",
       "<table border=\"1\" class=\"dataframe\">\n",
       "  <thead>\n",
       "    <tr style=\"text-align: right;\">\n",
       "      <th></th>\n",
       "      <th>Predicted Rating</th>\n",
       "      <th>Actual Rating</th>\n",
       "      <th>regsvm</th>\n",
       "      <th>regdt</th>\n",
       "      <th>classmv</th>\n",
       "      <th>clasdt</th>\n",
       "      <th>clasmodel</th>\n",
       "      <th>regmodel</th>\n",
       "    </tr>\n",
       "  </thead>\n",
       "  <tbody>\n",
       "    <tr>\n",
       "      <th>0</th>\n",
       "      <td>4.0</td>\n",
       "      <td>5</td>\n",
       "      <td>4.311521</td>\n",
       "      <td>4.487047</td>\n",
       "      <td>5</td>\n",
       "      <td>5</td>\n",
       "      <td>5</td>\n",
       "      <td>4.029720</td>\n",
       "    </tr>\n",
       "    <tr>\n",
       "      <th>1</th>\n",
       "      <td>4.1</td>\n",
       "      <td>4</td>\n",
       "      <td>4.300884</td>\n",
       "      <td>4.487047</td>\n",
       "      <td>5</td>\n",
       "      <td>5</td>\n",
       "      <td>5</td>\n",
       "      <td>4.029720</td>\n",
       "    </tr>\n",
       "    <tr>\n",
       "      <th>2</th>\n",
       "      <td>4.5</td>\n",
       "      <td>5</td>\n",
       "      <td>4.282279</td>\n",
       "      <td>4.487047</td>\n",
       "      <td>5</td>\n",
       "      <td>5</td>\n",
       "      <td>5</td>\n",
       "      <td>4.029719</td>\n",
       "    </tr>\n",
       "    <tr>\n",
       "      <th>3</th>\n",
       "      <td>4.2</td>\n",
       "      <td>5</td>\n",
       "      <td>4.291284</td>\n",
       "      <td>4.487047</td>\n",
       "      <td>5</td>\n",
       "      <td>5</td>\n",
       "      <td>5</td>\n",
       "      <td>4.029720</td>\n",
       "    </tr>\n",
       "    <tr>\n",
       "      <th>4</th>\n",
       "      <td>4.4</td>\n",
       "      <td>5</td>\n",
       "      <td>4.298930</td>\n",
       "      <td>4.487047</td>\n",
       "      <td>5</td>\n",
       "      <td>5</td>\n",
       "      <td>5</td>\n",
       "      <td>4.029720</td>\n",
       "    </tr>\n",
       "  </tbody>\n",
       "</table>\n",
       "</div>"
      ],
      "text/plain": [
       "   Predicted Rating  Actual Rating    regsvm     regdt  classmv  clasdt  \\\n",
       "0               4.0              5  4.311521  4.487047        5       5   \n",
       "1               4.1              4  4.300884  4.487047        5       5   \n",
       "2               4.5              5  4.282279  4.487047        5       5   \n",
       "3               4.2              5  4.291284  4.487047        5       5   \n",
       "4               4.4              5  4.298930  4.487047        5       5   \n",
       "\n",
       "   clasmodel  regmodel  \n",
       "0          5  4.029720  \n",
       "1          5  4.029720  \n",
       "2          5  4.029719  \n",
       "3          5  4.029720  \n",
       "4          5  4.029720  "
      ]
     },
     "execution_count": 46,
     "metadata": {},
     "output_type": "execute_result"
    }
   ],
   "source": [
    "y.head()"
   ]
  },
  {
   "cell_type": "code",
   "execution_count": 52,
   "metadata": {},
   "outputs": [],
   "source": [
    "baseline=mean_squared_error(y['Actual Rating'],y['Predicted Rating'])\n",
    "regsvmscore=mean_squared_error(y['Actual Rating'],y['regsvm'])\n",
    "regtdtscore=mean_squared_error(y['Actual Rating'],y['regdt'])\n",
    "classvmscore=mean_squared_error(y['Actual Rating'],y['classvm'])\n",
    "clasdtscore=mean_squared_error(y['Actual Rating'],y['clasdt'])\n",
    "clasmodelscore=mean_squared_error(y['Actual Rating'],y['clasmodel'])\n",
    "regmodelscore=mean_squared_error(y['Actual Rating'],y['regmodel'])"
   ]
  },
  {
   "cell_type": "code",
   "execution_count": 53,
   "metadata": {},
   "outputs": [
    {
     "name": "stdout",
     "output_type": "stream",
     "text": [
      "MSE Predicted Rating: 0.7844668079096044\n",
      "MSE regsvm: 1.3151503911513545\n",
      "MSE regdt: 0.9944644826843734\n",
      "MSE classsvm: 2.0205306698950767\n",
      "MSE clasdt: 1.4129338175948345\n",
      "MSE clasmodel: 2.3582526230831315\n",
      "MSE regmodel: 1.1142164139117647\n"
     ]
    }
   ],
   "source": [
    "print(f'MSE Predicted Rating: {baseline}')\n",
    "print(f'MSE regsvm: {regsvmscore}')\n",
    "print(f'MSE regdt: {regtdtscore}')\n",
    "print(f'MSE classsvm: {classvmscore}')\n",
    "print(f'MSE clasdt: {clasdtscore}')\n",
    "print(f'MSE clasmodel: {clasmodelscore}') # --> only predicts 5*s\n",
    "print(f'MSE regmodel: {regmodelscore}')"
   ]
  },
  {
   "cell_type": "markdown",
   "metadata": {},
   "source": [
    "- Classification works worse\n",
    "- regression tree works best\n",
    "- still not as good as predicted rating, but closest (0,78 vs 0,99)\n",
    "\n",
    "- a working user clustering might work\n",
    "- normalization?, Scaling?\n",
    "\n",
    "- improve "
   ]
  },
  {
   "cell_type": "code",
   "execution_count": null,
   "metadata": {},
   "outputs": [],
   "source": []
  },
  {
   "cell_type": "code",
   "execution_count": null,
   "metadata": {},
   "outputs": [],
   "source": []
  }
 ],
 "metadata": {
  "kernelspec": {
   "display_name": "base",
   "language": "python",
   "name": "python3"
  },
  "language_info": {
   "codemirror_mode": {
    "name": "ipython",
    "version": 3
   },
   "file_extension": ".py",
   "mimetype": "text/x-python",
   "name": "python",
   "nbconvert_exporter": "python",
   "pygments_lexer": "ipython3",
   "version": "3.8.18"
  }
 },
 "nbformat": 4,
 "nbformat_minor": 2
}
